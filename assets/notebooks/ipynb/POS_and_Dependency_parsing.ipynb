{
  "nbformat": 4,
  "nbformat_minor": 0,
  "metadata": {
    "colab": {
      "name": "POS + Dependency parsing.ipynb",
      "provenance": [],
      "collapsed_sections": [
        "abI2ElbCvv6-"
      ]
    },
    "kernelspec": {
      "display_name": "Python 3",
      "name": "python3"
    },
    "language_info": {
      "name": "python"
    }
  },
  "cells": [
    {
      "cell_type": "markdown",
      "metadata": {
        "id": "ivZr-pYa_ygV"
      },
      "source": [
        "# POS tagging"
      ]
    },
    {
      "cell_type": "markdown",
      "metadata": {
        "id": "Lq50Cs8H_psP"
      },
      "source": [
        "POS tagging is an important part of NLP because it works as the prerequisite for further NLP analysis as follows \n",
        "\n",
        "- Chunking\n",
        "- Syntax Parsing\n",
        "- Information extraction\n",
        "- Machine Translation\n",
        "- Sentiment Analysis\n",
        "- Grammar analysis & word-sense disambiguation"
      ]
    },
    {
      "cell_type": "code",
      "metadata": {
        "id": "2vlPGRIGn-ZU"
      },
      "source": [
        "import nltk\n",
        "import spacy\n",
        "from nltk import word_tokenize\n",
        "from nltk import pos_tag"
      ],
      "execution_count": null,
      "outputs": []
    },
    {
      "cell_type": "code",
      "metadata": {
        "colab": {
          "base_uri": "https://localhost:8080/"
        },
        "id": "4nPLJ5_Kob_k",
        "outputId": "ade05016-f3fa-4bbc-a8cd-cb7c12aa5de7"
      },
      "source": [
        "nltk.download('punkt')\n",
        "nltk.download('treebank')\n",
        "nltk.download('tagsets')\n",
        "nltk.download('averaged_perceptron_tagger')"
      ],
      "execution_count": null,
      "outputs": [
        {
          "name": "stdout",
          "output_type": "stream",
          "text": [
            "[nltk_data] Downloading package punkt to /root/nltk_data...\n",
            "[nltk_data]   Unzipping tokenizers/punkt.zip.\n",
            "[nltk_data] Downloading package treebank to /root/nltk_data...\n",
            "[nltk_data]   Unzipping corpora/treebank.zip.\n",
            "[nltk_data] Downloading package tagsets to /root/nltk_data...\n",
            "[nltk_data]   Unzipping help/tagsets.zip.\n",
            "[nltk_data] Downloading package averaged_perceptron_tagger to\n",
            "[nltk_data]     /root/nltk_data...\n",
            "[nltk_data]   Unzipping taggers/averaged_perceptron_tagger.zip.\n"
          ]
        },
        {
          "data": {
            "text/plain": [
              "True"
            ]
          },
          "execution_count": 2,
          "metadata": {},
          "output_type": "execute_result"
        }
      ]
    },
    {
      "cell_type": "markdown",
      "metadata": {
        "id": "d-XEZeBt8Tqf"
      },
      "source": [
        "You can look up meaning of the tags using ```nltk.help```"
      ]
    },
    {
      "cell_type": "code",
      "metadata": {
        "colab": {
          "base_uri": "https://localhost:8080/"
        },
        "id": "h6CCeogJoejh",
        "outputId": "eecbf971-f498-4669-836e-fd9452a185fb"
      },
      "source": [
        "nltk.help.upenn_tagset()"
      ],
      "execution_count": null,
      "outputs": [
        {
          "name": "stdout",
          "output_type": "stream",
          "text": [
            "$: dollar\n",
            "    $ -$ --$ A$ C$ HK$ M$ NZ$ S$ U.S.$ US$\n",
            "'': closing quotation mark\n",
            "    ' ''\n",
            "(: opening parenthesis\n",
            "    ( [ {\n",
            "): closing parenthesis\n",
            "    ) ] }\n",
            ",: comma\n",
            "    ,\n",
            "--: dash\n",
            "    --\n",
            ".: sentence terminator\n",
            "    . ! ?\n",
            ":: colon or ellipsis\n",
            "    : ; ...\n",
            "CC: conjunction, coordinating\n",
            "    & 'n and both but either et for less minus neither nor or plus so\n",
            "    therefore times v. versus vs. whether yet\n",
            "CD: numeral, cardinal\n",
            "    mid-1890 nine-thirty forty-two one-tenth ten million 0.5 one forty-\n",
            "    seven 1987 twenty '79 zero two 78-degrees eighty-four IX '60s .025\n",
            "    fifteen 271,124 dozen quintillion DM2,000 ...\n",
            "DT: determiner\n",
            "    all an another any both del each either every half la many much nary\n",
            "    neither no some such that the them these this those\n",
            "EX: existential there\n",
            "    there\n",
            "FW: foreign word\n",
            "    gemeinschaft hund ich jeux habeas Haementeria Herr K'ang-si vous\n",
            "    lutihaw alai je jour objets salutaris fille quibusdam pas trop Monte\n",
            "    terram fiche oui corporis ...\n",
            "IN: preposition or conjunction, subordinating\n",
            "    astride among uppon whether out inside pro despite on by throughout\n",
            "    below within for towards near behind atop around if like until below\n",
            "    next into if beside ...\n",
            "JJ: adjective or numeral, ordinal\n",
            "    third ill-mannered pre-war regrettable oiled calamitous first separable\n",
            "    ectoplasmic battery-powered participatory fourth still-to-be-named\n",
            "    multilingual multi-disciplinary ...\n",
            "JJR: adjective, comparative\n",
            "    bleaker braver breezier briefer brighter brisker broader bumper busier\n",
            "    calmer cheaper choosier cleaner clearer closer colder commoner costlier\n",
            "    cozier creamier crunchier cuter ...\n",
            "JJS: adjective, superlative\n",
            "    calmest cheapest choicest classiest cleanest clearest closest commonest\n",
            "    corniest costliest crassest creepiest crudest cutest darkest deadliest\n",
            "    dearest deepest densest dinkiest ...\n",
            "LS: list item marker\n",
            "    A A. B B. C C. D E F First G H I J K One SP-44001 SP-44002 SP-44005\n",
            "    SP-44007 Second Third Three Two * a b c d first five four one six three\n",
            "    two\n",
            "MD: modal auxiliary\n",
            "    can cannot could couldn't dare may might must need ought shall should\n",
            "    shouldn't will would\n",
            "NN: noun, common, singular or mass\n",
            "    common-carrier cabbage knuckle-duster Casino afghan shed thermostat\n",
            "    investment slide humour falloff slick wind hyena override subhumanity\n",
            "    machinist ...\n",
            "NNP: noun, proper, singular\n",
            "    Motown Venneboerger Czestochwa Ranzer Conchita Trumplane Christos\n",
            "    Oceanside Escobar Kreisler Sawyer Cougar Yvette Ervin ODI Darryl CTCA\n",
            "    Shannon A.K.C. Meltex Liverpool ...\n",
            "NNPS: noun, proper, plural\n",
            "    Americans Americas Amharas Amityvilles Amusements Anarcho-Syndicalists\n",
            "    Andalusians Andes Andruses Angels Animals Anthony Antilles Antiques\n",
            "    Apache Apaches Apocrypha ...\n",
            "NNS: noun, common, plural\n",
            "    undergraduates scotches bric-a-brac products bodyguards facets coasts\n",
            "    divestitures storehouses designs clubs fragrances averages\n",
            "    subjectivists apprehensions muses factory-jobs ...\n",
            "PDT: pre-determiner\n",
            "    all both half many quite such sure this\n",
            "POS: genitive marker\n",
            "    ' 's\n",
            "PRP: pronoun, personal\n",
            "    hers herself him himself hisself it itself me myself one oneself ours\n",
            "    ourselves ownself self she thee theirs them themselves they thou thy us\n",
            "PRP$: pronoun, possessive\n",
            "    her his mine my our ours their thy your\n",
            "RB: adverb\n",
            "    occasionally unabatingly maddeningly adventurously professedly\n",
            "    stirringly prominently technologically magisterially predominately\n",
            "    swiftly fiscally pitilessly ...\n",
            "RBR: adverb, comparative\n",
            "    further gloomier grander graver greater grimmer harder harsher\n",
            "    healthier heavier higher however larger later leaner lengthier less-\n",
            "    perfectly lesser lonelier longer louder lower more ...\n",
            "RBS: adverb, superlative\n",
            "    best biggest bluntest earliest farthest first furthest hardest\n",
            "    heartiest highest largest least less most nearest second tightest worst\n",
            "RP: particle\n",
            "    aboard about across along apart around aside at away back before behind\n",
            "    by crop down ever fast for forth from go high i.e. in into just later\n",
            "    low more off on open out over per pie raising start teeth that through\n",
            "    under unto up up-pp upon whole with you\n",
            "SYM: symbol\n",
            "    % & ' '' ''. ) ). * + ,. < = > @ A[fj] U.S U.S.S.R * ** ***\n",
            "TO: \"to\" as preposition or infinitive marker\n",
            "    to\n",
            "UH: interjection\n",
            "    Goodbye Goody Gosh Wow Jeepers Jee-sus Hubba Hey Kee-reist Oops amen\n",
            "    huh howdy uh dammit whammo shucks heck anyways whodunnit honey golly\n",
            "    man baby diddle hush sonuvabitch ...\n",
            "VB: verb, base form\n",
            "    ask assemble assess assign assume atone attention avoid bake balkanize\n",
            "    bank begin behold believe bend benefit bevel beware bless boil bomb\n",
            "    boost brace break bring broil brush build ...\n",
            "VBD: verb, past tense\n",
            "    dipped pleaded swiped regummed soaked tidied convened halted registered\n",
            "    cushioned exacted snubbed strode aimed adopted belied figgered\n",
            "    speculated wore appreciated contemplated ...\n",
            "VBG: verb, present participle or gerund\n",
            "    telegraphing stirring focusing angering judging stalling lactating\n",
            "    hankerin' alleging veering capping approaching traveling besieging\n",
            "    encrypting interrupting erasing wincing ...\n",
            "VBN: verb, past participle\n",
            "    multihulled dilapidated aerosolized chaired languished panelized used\n",
            "    experimented flourished imitated reunifed factored condensed sheared\n",
            "    unsettled primed dubbed desired ...\n",
            "VBP: verb, present tense, not 3rd person singular\n",
            "    predominate wrap resort sue twist spill cure lengthen brush terminate\n",
            "    appear tend stray glisten obtain comprise detest tease attract\n",
            "    emphasize mold postpone sever return wag ...\n",
            "VBZ: verb, present tense, 3rd person singular\n",
            "    bases reconstructs marks mixes displeases seals carps weaves snatches\n",
            "    slumps stretches authorizes smolders pictures emerges stockpiles\n",
            "    seduces fizzes uses bolsters slaps speaks pleads ...\n",
            "WDT: WH-determiner\n",
            "    that what whatever which whichever\n",
            "WP: WH-pronoun\n",
            "    that what whatever whatsoever which who whom whosoever\n",
            "WP$: WH-pronoun, possessive\n",
            "    whose\n",
            "WRB: Wh-adverb\n",
            "    how however whence whenever where whereby whereever wherein whereof why\n",
            "``: opening quotation mark\n",
            "    ` ``\n"
          ]
        }
      ]
    },
    {
      "cell_type": "code",
      "metadata": {
        "colab": {
          "base_uri": "https://localhost:8080/"
        },
        "id": "JyNH35qUAJZB",
        "outputId": "6b200d17-b0f5-489a-a5e8-cd8e805cd2de"
      },
      "source": [
        "nltk.help.upenn_tagset(\"IN\")"
      ],
      "execution_count": null,
      "outputs": [
        {
          "name": "stdout",
          "output_type": "stream",
          "text": [
            "IN: preposition or conjunction, subordinating\n",
            "    astride among uppon whether out inside pro despite on by throughout\n",
            "    below within for towards near behind atop around if like until below\n",
            "    next into if beside ...\n"
          ]
        }
      ]
    },
    {
      "cell_type": "code",
      "metadata": {
        "id": "5dffNYmIog4L"
      },
      "source": [
        "# We will be using this sentenence throughout the notebook and compare results across different methods and libraries\n",
        "text = \"In traditional grammar, a part of speech or part-of-speech is a category of words that have similar grammatical properties.\""
      ],
      "execution_count": null,
      "outputs": []
    },
    {
      "cell_type": "code",
      "metadata": {
        "colab": {
          "base_uri": "https://localhost:8080/"
        },
        "id": "xSQ6Dp_ipZg4",
        "outputId": "6907ef44-9004-424f-dad7-68f92246cd79"
      },
      "source": [
        "#nltk pos tag\n",
        "sentence = word_tokenize(text)\n",
        "pos_tag(sentence)"
      ],
      "execution_count": null,
      "outputs": [
        {
          "data": {
            "text/plain": [
              "[('In', 'IN'),\n",
              " ('traditional', 'JJ'),\n",
              " ('grammar', 'NN'),\n",
              " (',', ','),\n",
              " ('a', 'DT'),\n",
              " ('part', 'NN'),\n",
              " ('of', 'IN'),\n",
              " ('speech', 'NN'),\n",
              " ('or', 'CC'),\n",
              " ('part-of-speech', 'NN'),\n",
              " ('is', 'VBZ'),\n",
              " ('a', 'DT'),\n",
              " ('category', 'NN'),\n",
              " ('of', 'IN'),\n",
              " ('words', 'NNS'),\n",
              " ('that', 'WDT'),\n",
              " ('have', 'VBP'),\n",
              " ('similar', 'JJ'),\n",
              " ('grammatical', 'JJ'),\n",
              " ('properties', 'NNS'),\n",
              " ('.', '.')]"
            ]
          },
          "execution_count": 8,
          "metadata": {},
          "output_type": "execute_result"
        }
      ]
    },
    {
      "cell_type": "code",
      "metadata": {
        "colab": {
          "base_uri": "https://localhost:8080/"
        },
        "id": "Mf8gRnF79bY4",
        "outputId": "b5e71d05-a3b0-4692-8915-41cb2913f21c"
      },
      "source": [
        "#using Spacy\n",
        "\n",
        "import spacy\n",
        "nlp = spacy.load(\"en\")\n",
        "\n",
        "#like discussed befrore Spacy using objects to tag the sentences with help of pipelines\n",
        "#to get more tags or parses just add to the pipeline\n",
        "doc = nlp(\"In traditional grammar, a part of speech or part-of-speech is a category of words that have similar grammatical properties\")\n",
        "\n",
        "for token in doc:\n",
        "    print(token.text, '=>',token.pos_,'=>',token.tag_, token.dep_,)"
      ],
      "execution_count": null,
      "outputs": [
        {
          "name": "stdout",
          "output_type": "stream",
          "text": [
            "In => ADP => IN prep\n",
            "traditional => ADJ => JJ amod\n",
            "grammar => NOUN => NN pobj\n",
            ", => PUNCT => , punct\n",
            "a => DET => DT det\n",
            "part => NOUN => NN nsubj\n",
            "of => ADP => IN prep\n",
            "speech => NOUN => NN pobj\n",
            "or => CCONJ => CC cc\n",
            "part => NOUN => NN conj\n",
            "- => PUNCT => HYPH punct\n",
            "of => ADP => IN prep\n",
            "- => PUNCT => HYPH punct\n",
            "speech => NOUN => NN pobj\n",
            "is => AUX => VBZ ROOT\n",
            "a => DET => DT det\n",
            "category => NOUN => NN attr\n",
            "of => ADP => IN prep\n",
            "words => NOUN => NNS pobj\n",
            "that => DET => WDT nsubj\n",
            "have => AUX => VBP relcl\n",
            "similar => ADJ => JJ amod\n",
            "grammatical => ADJ => JJ amod\n",
            "properties => NOUN => NNS dobj\n"
          ]
        }
      ]
    },
    {
      "cell_type": "markdown",
      "metadata": {
        "id": "abI2ElbCvv6-"
      },
      "source": [
        "# display fixing\n",
        "\n",
        "Fixing display issues one might face because of notebooks (these libraries are meant to open new windows to display)"
      ]
    },
    {
      "cell_type": "code",
      "metadata": {
        "colab": {
          "base_uri": "https://localhost:8080/"
        },
        "id": "Sw_BKGDrxyKk",
        "outputId": "b1022e7c-609d-4778-dc63-5ee1244b35a9"
      },
      "source": [
        "!apt-get install -y xvfb # Install X Virtual Frame Buffer\n",
        "import os\n",
        "os.system('Xvfb :1 -screen 0 1600x1200x16  &')    # create virtual display with size 1600x1200 and 16 bit color. Color can be changed to 24 or 8\n",
        "os.environ['DISPLAY']=':1.0'"
      ],
      "execution_count": null,
      "outputs": [
        {
          "name": "stdout",
          "output_type": "stream",
          "text": [
            "Reading package lists... Done\n",
            "Building dependency tree       \n",
            "Reading state information... Done\n",
            "The following NEW packages will be installed:\n",
            "  xvfb\n",
            "0 upgraded, 1 newly installed, 0 to remove and 37 not upgraded.\n",
            "Need to get 784 kB of archives.\n",
            "After this operation, 2,270 kB of additional disk space will be used.\n",
            "Get:1 http://archive.ubuntu.com/ubuntu bionic-updates/universe amd64 xvfb amd64 2:1.19.6-1ubuntu4.9 [784 kB]\n",
            "Fetched 784 kB in 0s (2,749 kB/s)\n",
            "Selecting previously unselected package xvfb.\n",
            "(Reading database ... 155222 files and directories currently installed.)\n",
            "Preparing to unpack .../xvfb_2%3a1.19.6-1ubuntu4.9_amd64.deb ...\n",
            "Unpacking xvfb (2:1.19.6-1ubuntu4.9) ...\n",
            "Setting up xvfb (2:1.19.6-1ubuntu4.9) ...\n",
            "Processing triggers for man-db (2.8.3-2ubuntu0.1) ...\n"
          ]
        }
      ]
    },
    {
      "cell_type": "code",
      "metadata": {
        "id": "OxDdW2_H1OaP"
      },
      "source": [
        "%matplotlib inline"
      ],
      "execution_count": null,
      "outputs": []
    },
    {
      "cell_type": "code",
      "metadata": {
        "colab": {
          "base_uri": "https://localhost:8080/"
        },
        "id": "KPG238yi1Lgf",
        "outputId": "debe8fe4-8e8d-4050-a259-2f7f6ab182ab"
      },
      "source": [
        "!apt install ghostscript python3-tk"
      ],
      "execution_count": null,
      "outputs": [
        {
          "name": "stdout",
          "output_type": "stream",
          "text": [
            "Reading package lists... Done\n",
            "Building dependency tree       \n",
            "Reading state information... Done\n",
            "python3-tk is already the newest version (3.6.9-1~18.04).\n",
            "The following additional packages will be installed:\n",
            "  fonts-droid-fallback fonts-noto-mono gsfonts libcupsfilters1 libcupsimage2\n",
            "  libgs9 libgs9-common libijs-0.35 libjbig2dec0 poppler-data\n",
            "Suggested packages:\n",
            "  fonts-noto ghostscript-x poppler-utils fonts-japanese-mincho\n",
            "  | fonts-ipafont-mincho fonts-japanese-gothic | fonts-ipafont-gothic\n",
            "  fonts-arphic-ukai fonts-arphic-uming fonts-nanum\n",
            "The following NEW packages will be installed:\n",
            "  fonts-droid-fallback fonts-noto-mono ghostscript gsfonts libcupsfilters1\n",
            "  libcupsimage2 libgs9 libgs9-common libijs-0.35 libjbig2dec0 poppler-data\n",
            "0 upgraded, 11 newly installed, 0 to remove and 37 not upgraded.\n",
            "Need to get 14.1 MB of archives.\n",
            "After this operation, 49.9 MB of additional disk space will be used.\n",
            "Get:1 http://archive.ubuntu.com/ubuntu bionic/main amd64 fonts-droid-fallback all 1:6.0.1r16-1.1 [1,805 kB]\n",
            "Get:2 http://archive.ubuntu.com/ubuntu bionic/main amd64 poppler-data all 0.4.8-2 [1,479 kB]\n",
            "Get:3 http://archive.ubuntu.com/ubuntu bionic/main amd64 fonts-noto-mono all 20171026-2 [75.5 kB]\n",
            "Get:4 http://archive.ubuntu.com/ubuntu bionic-updates/main amd64 libcupsimage2 amd64 2.2.7-1ubuntu2.8 [18.6 kB]\n",
            "Get:5 http://archive.ubuntu.com/ubuntu bionic/main amd64 libijs-0.35 amd64 0.35-13 [15.5 kB]\n",
            "Get:6 http://archive.ubuntu.com/ubuntu bionic/main amd64 libjbig2dec0 amd64 0.13-6 [55.9 kB]\n",
            "Get:7 http://archive.ubuntu.com/ubuntu bionic-updates/main amd64 libgs9-common all 9.26~dfsg+0-0ubuntu0.18.04.14 [5,092 kB]\n",
            "Get:8 http://archive.ubuntu.com/ubuntu bionic-updates/main amd64 libgs9 amd64 9.26~dfsg+0-0ubuntu0.18.04.14 [2,265 kB]\n",
            "Get:9 http://archive.ubuntu.com/ubuntu bionic-updates/main amd64 ghostscript amd64 9.26~dfsg+0-0ubuntu0.18.04.14 [51.3 kB]\n",
            "Get:10 http://archive.ubuntu.com/ubuntu bionic/main amd64 gsfonts all 1:8.11+urwcyr1.0.7~pre44-4.4 [3,120 kB]\n",
            "Get:11 http://archive.ubuntu.com/ubuntu bionic-updates/main amd64 libcupsfilters1 amd64 1.20.2-0ubuntu3.1 [108 kB]\n",
            "Fetched 14.1 MB in 0s (43.3 MB/s)\n",
            "Selecting previously unselected package fonts-droid-fallback.\n",
            "(Reading database ... 155229 files and directories currently installed.)\n",
            "Preparing to unpack .../00-fonts-droid-fallback_1%3a6.0.1r16-1.1_all.deb ...\n",
            "Unpacking fonts-droid-fallback (1:6.0.1r16-1.1) ...\n",
            "Selecting previously unselected package poppler-data.\n",
            "Preparing to unpack .../01-poppler-data_0.4.8-2_all.deb ...\n",
            "Unpacking poppler-data (0.4.8-2) ...\n",
            "Selecting previously unselected package fonts-noto-mono.\n",
            "Preparing to unpack .../02-fonts-noto-mono_20171026-2_all.deb ...\n",
            "Unpacking fonts-noto-mono (20171026-2) ...\n",
            "Selecting previously unselected package libcupsimage2:amd64.\n",
            "Preparing to unpack .../03-libcupsimage2_2.2.7-1ubuntu2.8_amd64.deb ...\n",
            "Unpacking libcupsimage2:amd64 (2.2.7-1ubuntu2.8) ...\n",
            "Selecting previously unselected package libijs-0.35:amd64.\n",
            "Preparing to unpack .../04-libijs-0.35_0.35-13_amd64.deb ...\n",
            "Unpacking libijs-0.35:amd64 (0.35-13) ...\n",
            "Selecting previously unselected package libjbig2dec0:amd64.\n",
            "Preparing to unpack .../05-libjbig2dec0_0.13-6_amd64.deb ...\n",
            "Unpacking libjbig2dec0:amd64 (0.13-6) ...\n",
            "Selecting previously unselected package libgs9-common.\n",
            "Preparing to unpack .../06-libgs9-common_9.26~dfsg+0-0ubuntu0.18.04.14_all.deb ...\n",
            "Unpacking libgs9-common (9.26~dfsg+0-0ubuntu0.18.04.14) ...\n",
            "Selecting previously unselected package libgs9:amd64.\n",
            "Preparing to unpack .../07-libgs9_9.26~dfsg+0-0ubuntu0.18.04.14_amd64.deb ...\n",
            "Unpacking libgs9:amd64 (9.26~dfsg+0-0ubuntu0.18.04.14) ...\n",
            "Selecting previously unselected package ghostscript.\n",
            "Preparing to unpack .../08-ghostscript_9.26~dfsg+0-0ubuntu0.18.04.14_amd64.deb ...\n",
            "Unpacking ghostscript (9.26~dfsg+0-0ubuntu0.18.04.14) ...\n",
            "Selecting previously unselected package gsfonts.\n",
            "Preparing to unpack .../09-gsfonts_1%3a8.11+urwcyr1.0.7~pre44-4.4_all.deb ...\n",
            "Unpacking gsfonts (1:8.11+urwcyr1.0.7~pre44-4.4) ...\n",
            "Selecting previously unselected package libcupsfilters1:amd64.\n",
            "Preparing to unpack .../10-libcupsfilters1_1.20.2-0ubuntu3.1_amd64.deb ...\n",
            "Unpacking libcupsfilters1:amd64 (1.20.2-0ubuntu3.1) ...\n",
            "Setting up libgs9-common (9.26~dfsg+0-0ubuntu0.18.04.14) ...\n",
            "Setting up fonts-droid-fallback (1:6.0.1r16-1.1) ...\n",
            "Setting up gsfonts (1:8.11+urwcyr1.0.7~pre44-4.4) ...\n",
            "Setting up poppler-data (0.4.8-2) ...\n",
            "Setting up fonts-noto-mono (20171026-2) ...\n",
            "Setting up libcupsfilters1:amd64 (1.20.2-0ubuntu3.1) ...\n",
            "Setting up libcupsimage2:amd64 (2.2.7-1ubuntu2.8) ...\n",
            "Setting up libjbig2dec0:amd64 (0.13-6) ...\n",
            "Setting up libijs-0.35:amd64 (0.35-13) ...\n",
            "Setting up libgs9:amd64 (9.26~dfsg+0-0ubuntu0.18.04.14) ...\n",
            "Setting up ghostscript (9.26~dfsg+0-0ubuntu0.18.04.14) ...\n",
            "Processing triggers for man-db (2.8.3-2ubuntu0.1) ...\n",
            "Processing triggers for fontconfig (2.12.6-0ubuntu2) ...\n",
            "Processing triggers for libc-bin (2.27-3ubuntu1.3) ...\n",
            "/sbin/ldconfig.real: /usr/local/lib/python3.7/dist-packages/ideep4py/lib/libmkldnn.so.0 is not a symbolic link\n",
            "\n"
          ]
        }
      ]
    },
    {
      "cell_type": "markdown",
      "metadata": {
        "id": "UzPGGgpD1nN9"
      },
      "source": [
        "# Dependency Parsing"
      ]
    },
    {
      "cell_type": "code",
      "metadata": {
        "colab": {
          "base_uri": "https://localhost:8080/",
          "height": 616
        },
        "id": "ay0XdJ5KAoCW",
        "outputId": "d536bca9-f071-4b15-e31c-7c80435dda0d"
      },
      "source": [
        "#Example of parsed text graph\n",
        "from spacy import displacy\n",
        "displacy.render(nlp(text),jupyter=True)"
      ],
      "execution_count": null,
      "outputs": [
        {
          "data": {
            "text/html": [
              "<span class=\"tex2jax_ignore\"><svg xmlns=\"http://www.w3.org/2000/svg\" xmlns:xlink=\"http://www.w3.org/1999/xlink\" xml:lang=\"en\" id=\"528f0cff1d1943169405559761d8ec5d-0\" class=\"displacy\" width=\"3725\" height=\"574.5\" direction=\"ltr\" style=\"max-width: none; height: 574.5px; color: #000000; background: #ffffff; font-family: Arial; direction: ltr\">\n",
              "<text class=\"displacy-token\" fill=\"currentColor\" text-anchor=\"middle\" y=\"484.5\">\n",
              "    <tspan class=\"displacy-word\" fill=\"currentColor\" x=\"50\">In</tspan>\n",
              "    <tspan class=\"displacy-tag\" dy=\"2em\" fill=\"currentColor\" x=\"50\">ADP</tspan>\n",
              "</text>\n",
              "\n",
              "<text class=\"displacy-token\" fill=\"currentColor\" text-anchor=\"middle\" y=\"484.5\">\n",
              "    <tspan class=\"displacy-word\" fill=\"currentColor\" x=\"225\">traditional</tspan>\n",
              "    <tspan class=\"displacy-tag\" dy=\"2em\" fill=\"currentColor\" x=\"225\">ADJ</tspan>\n",
              "</text>\n",
              "\n",
              "<text class=\"displacy-token\" fill=\"currentColor\" text-anchor=\"middle\" y=\"484.5\">\n",
              "    <tspan class=\"displacy-word\" fill=\"currentColor\" x=\"400\">grammar,</tspan>\n",
              "    <tspan class=\"displacy-tag\" dy=\"2em\" fill=\"currentColor\" x=\"400\">NOUN</tspan>\n",
              "</text>\n",
              "\n",
              "<text class=\"displacy-token\" fill=\"currentColor\" text-anchor=\"middle\" y=\"484.5\">\n",
              "    <tspan class=\"displacy-word\" fill=\"currentColor\" x=\"575\">a</tspan>\n",
              "    <tspan class=\"displacy-tag\" dy=\"2em\" fill=\"currentColor\" x=\"575\">DET</tspan>\n",
              "</text>\n",
              "\n",
              "<text class=\"displacy-token\" fill=\"currentColor\" text-anchor=\"middle\" y=\"484.5\">\n",
              "    <tspan class=\"displacy-word\" fill=\"currentColor\" x=\"750\">part</tspan>\n",
              "    <tspan class=\"displacy-tag\" dy=\"2em\" fill=\"currentColor\" x=\"750\">NOUN</tspan>\n",
              "</text>\n",
              "\n",
              "<text class=\"displacy-token\" fill=\"currentColor\" text-anchor=\"middle\" y=\"484.5\">\n",
              "    <tspan class=\"displacy-word\" fill=\"currentColor\" x=\"925\">of</tspan>\n",
              "    <tspan class=\"displacy-tag\" dy=\"2em\" fill=\"currentColor\" x=\"925\">ADP</tspan>\n",
              "</text>\n",
              "\n",
              "<text class=\"displacy-token\" fill=\"currentColor\" text-anchor=\"middle\" y=\"484.5\">\n",
              "    <tspan class=\"displacy-word\" fill=\"currentColor\" x=\"1100\">speech</tspan>\n",
              "    <tspan class=\"displacy-tag\" dy=\"2em\" fill=\"currentColor\" x=\"1100\">NOUN</tspan>\n",
              "</text>\n",
              "\n",
              "<text class=\"displacy-token\" fill=\"currentColor\" text-anchor=\"middle\" y=\"484.5\">\n",
              "    <tspan class=\"displacy-word\" fill=\"currentColor\" x=\"1275\">or</tspan>\n",
              "    <tspan class=\"displacy-tag\" dy=\"2em\" fill=\"currentColor\" x=\"1275\">CCONJ</tspan>\n",
              "</text>\n",
              "\n",
              "<text class=\"displacy-token\" fill=\"currentColor\" text-anchor=\"middle\" y=\"484.5\">\n",
              "    <tspan class=\"displacy-word\" fill=\"currentColor\" x=\"1450\">part-</tspan>\n",
              "    <tspan class=\"displacy-tag\" dy=\"2em\" fill=\"currentColor\" x=\"1450\">NOUN</tspan>\n",
              "</text>\n",
              "\n",
              "<text class=\"displacy-token\" fill=\"currentColor\" text-anchor=\"middle\" y=\"484.5\">\n",
              "    <tspan class=\"displacy-word\" fill=\"currentColor\" x=\"1625\">of-</tspan>\n",
              "    <tspan class=\"displacy-tag\" dy=\"2em\" fill=\"currentColor\" x=\"1625\">ADP</tspan>\n",
              "</text>\n",
              "\n",
              "<text class=\"displacy-token\" fill=\"currentColor\" text-anchor=\"middle\" y=\"484.5\">\n",
              "    <tspan class=\"displacy-word\" fill=\"currentColor\" x=\"1800\">speech</tspan>\n",
              "    <tspan class=\"displacy-tag\" dy=\"2em\" fill=\"currentColor\" x=\"1800\">NOUN</tspan>\n",
              "</text>\n",
              "\n",
              "<text class=\"displacy-token\" fill=\"currentColor\" text-anchor=\"middle\" y=\"484.5\">\n",
              "    <tspan class=\"displacy-word\" fill=\"currentColor\" x=\"1975\">is</tspan>\n",
              "    <tspan class=\"displacy-tag\" dy=\"2em\" fill=\"currentColor\" x=\"1975\">AUX</tspan>\n",
              "</text>\n",
              "\n",
              "<text class=\"displacy-token\" fill=\"currentColor\" text-anchor=\"middle\" y=\"484.5\">\n",
              "    <tspan class=\"displacy-word\" fill=\"currentColor\" x=\"2150\">a</tspan>\n",
              "    <tspan class=\"displacy-tag\" dy=\"2em\" fill=\"currentColor\" x=\"2150\">DET</tspan>\n",
              "</text>\n",
              "\n",
              "<text class=\"displacy-token\" fill=\"currentColor\" text-anchor=\"middle\" y=\"484.5\">\n",
              "    <tspan class=\"displacy-word\" fill=\"currentColor\" x=\"2325\">category</tspan>\n",
              "    <tspan class=\"displacy-tag\" dy=\"2em\" fill=\"currentColor\" x=\"2325\">NOUN</tspan>\n",
              "</text>\n",
              "\n",
              "<text class=\"displacy-token\" fill=\"currentColor\" text-anchor=\"middle\" y=\"484.5\">\n",
              "    <tspan class=\"displacy-word\" fill=\"currentColor\" x=\"2500\">of</tspan>\n",
              "    <tspan class=\"displacy-tag\" dy=\"2em\" fill=\"currentColor\" x=\"2500\">ADP</tspan>\n",
              "</text>\n",
              "\n",
              "<text class=\"displacy-token\" fill=\"currentColor\" text-anchor=\"middle\" y=\"484.5\">\n",
              "    <tspan class=\"displacy-word\" fill=\"currentColor\" x=\"2675\">words</tspan>\n",
              "    <tspan class=\"displacy-tag\" dy=\"2em\" fill=\"currentColor\" x=\"2675\">NOUN</tspan>\n",
              "</text>\n",
              "\n",
              "<text class=\"displacy-token\" fill=\"currentColor\" text-anchor=\"middle\" y=\"484.5\">\n",
              "    <tspan class=\"displacy-word\" fill=\"currentColor\" x=\"2850\">that</tspan>\n",
              "    <tspan class=\"displacy-tag\" dy=\"2em\" fill=\"currentColor\" x=\"2850\">DET</tspan>\n",
              "</text>\n",
              "\n",
              "<text class=\"displacy-token\" fill=\"currentColor\" text-anchor=\"middle\" y=\"484.5\">\n",
              "    <tspan class=\"displacy-word\" fill=\"currentColor\" x=\"3025\">have</tspan>\n",
              "    <tspan class=\"displacy-tag\" dy=\"2em\" fill=\"currentColor\" x=\"3025\">AUX</tspan>\n",
              "</text>\n",
              "\n",
              "<text class=\"displacy-token\" fill=\"currentColor\" text-anchor=\"middle\" y=\"484.5\">\n",
              "    <tspan class=\"displacy-word\" fill=\"currentColor\" x=\"3200\">similar</tspan>\n",
              "    <tspan class=\"displacy-tag\" dy=\"2em\" fill=\"currentColor\" x=\"3200\">ADJ</tspan>\n",
              "</text>\n",
              "\n",
              "<text class=\"displacy-token\" fill=\"currentColor\" text-anchor=\"middle\" y=\"484.5\">\n",
              "    <tspan class=\"displacy-word\" fill=\"currentColor\" x=\"3375\">grammatical</tspan>\n",
              "    <tspan class=\"displacy-tag\" dy=\"2em\" fill=\"currentColor\" x=\"3375\">ADJ</tspan>\n",
              "</text>\n",
              "\n",
              "<text class=\"displacy-token\" fill=\"currentColor\" text-anchor=\"middle\" y=\"484.5\">\n",
              "    <tspan class=\"displacy-word\" fill=\"currentColor\" x=\"3550\">properties.</tspan>\n",
              "    <tspan class=\"displacy-tag\" dy=\"2em\" fill=\"currentColor\" x=\"3550\">NOUN</tspan>\n",
              "</text>\n",
              "\n",
              "<g class=\"displacy-arrow\">\n",
              "    <path class=\"displacy-arc\" id=\"arrow-528f0cff1d1943169405559761d8ec5d-0-0\" stroke-width=\"2px\" d=\"M70,439.5 C70,2.0 1975.0,2.0 1975.0,439.5\" fill=\"none\" stroke=\"currentColor\"/>\n",
              "    <text dy=\"1.25em\" style=\"font-size: 0.8em; letter-spacing: 1px\">\n",
              "        <textPath xlink:href=\"#arrow-528f0cff1d1943169405559761d8ec5d-0-0\" class=\"displacy-label\" startOffset=\"50%\" side=\"left\" fill=\"currentColor\" text-anchor=\"middle\">prep</textPath>\n",
              "    </text>\n",
              "    <path class=\"displacy-arrowhead\" d=\"M70,441.5 L62,429.5 78,429.5\" fill=\"currentColor\"/>\n",
              "</g>\n",
              "\n",
              "<g class=\"displacy-arrow\">\n",
              "    <path class=\"displacy-arc\" id=\"arrow-528f0cff1d1943169405559761d8ec5d-0-1\" stroke-width=\"2px\" d=\"M245,439.5 C245,352.0 380.0,352.0 380.0,439.5\" fill=\"none\" stroke=\"currentColor\"/>\n",
              "    <text dy=\"1.25em\" style=\"font-size: 0.8em; letter-spacing: 1px\">\n",
              "        <textPath xlink:href=\"#arrow-528f0cff1d1943169405559761d8ec5d-0-1\" class=\"displacy-label\" startOffset=\"50%\" side=\"left\" fill=\"currentColor\" text-anchor=\"middle\">amod</textPath>\n",
              "    </text>\n",
              "    <path class=\"displacy-arrowhead\" d=\"M245,441.5 L237,429.5 253,429.5\" fill=\"currentColor\"/>\n",
              "</g>\n",
              "\n",
              "<g class=\"displacy-arrow\">\n",
              "    <path class=\"displacy-arc\" id=\"arrow-528f0cff1d1943169405559761d8ec5d-0-2\" stroke-width=\"2px\" d=\"M70,439.5 C70,264.5 385.0,264.5 385.0,439.5\" fill=\"none\" stroke=\"currentColor\"/>\n",
              "    <text dy=\"1.25em\" style=\"font-size: 0.8em; letter-spacing: 1px\">\n",
              "        <textPath xlink:href=\"#arrow-528f0cff1d1943169405559761d8ec5d-0-2\" class=\"displacy-label\" startOffset=\"50%\" side=\"left\" fill=\"currentColor\" text-anchor=\"middle\">pobj</textPath>\n",
              "    </text>\n",
              "    <path class=\"displacy-arrowhead\" d=\"M385.0,441.5 L393.0,429.5 377.0,429.5\" fill=\"currentColor\"/>\n",
              "</g>\n",
              "\n",
              "<g class=\"displacy-arrow\">\n",
              "    <path class=\"displacy-arc\" id=\"arrow-528f0cff1d1943169405559761d8ec5d-0-3\" stroke-width=\"2px\" d=\"M595,439.5 C595,352.0 730.0,352.0 730.0,439.5\" fill=\"none\" stroke=\"currentColor\"/>\n",
              "    <text dy=\"1.25em\" style=\"font-size: 0.8em; letter-spacing: 1px\">\n",
              "        <textPath xlink:href=\"#arrow-528f0cff1d1943169405559761d8ec5d-0-3\" class=\"displacy-label\" startOffset=\"50%\" side=\"left\" fill=\"currentColor\" text-anchor=\"middle\">det</textPath>\n",
              "    </text>\n",
              "    <path class=\"displacy-arrowhead\" d=\"M595,441.5 L587,429.5 603,429.5\" fill=\"currentColor\"/>\n",
              "</g>\n",
              "\n",
              "<g class=\"displacy-arrow\">\n",
              "    <path class=\"displacy-arc\" id=\"arrow-528f0cff1d1943169405559761d8ec5d-0-4\" stroke-width=\"2px\" d=\"M770,439.5 C770,89.5 1970.0,89.5 1970.0,439.5\" fill=\"none\" stroke=\"currentColor\"/>\n",
              "    <text dy=\"1.25em\" style=\"font-size: 0.8em; letter-spacing: 1px\">\n",
              "        <textPath xlink:href=\"#arrow-528f0cff1d1943169405559761d8ec5d-0-4\" class=\"displacy-label\" startOffset=\"50%\" side=\"left\" fill=\"currentColor\" text-anchor=\"middle\">nsubj</textPath>\n",
              "    </text>\n",
              "    <path class=\"displacy-arrowhead\" d=\"M770,441.5 L762,429.5 778,429.5\" fill=\"currentColor\"/>\n",
              "</g>\n",
              "\n",
              "<g class=\"displacy-arrow\">\n",
              "    <path class=\"displacy-arc\" id=\"arrow-528f0cff1d1943169405559761d8ec5d-0-5\" stroke-width=\"2px\" d=\"M770,439.5 C770,352.0 905.0,352.0 905.0,439.5\" fill=\"none\" stroke=\"currentColor\"/>\n",
              "    <text dy=\"1.25em\" style=\"font-size: 0.8em; letter-spacing: 1px\">\n",
              "        <textPath xlink:href=\"#arrow-528f0cff1d1943169405559761d8ec5d-0-5\" class=\"displacy-label\" startOffset=\"50%\" side=\"left\" fill=\"currentColor\" text-anchor=\"middle\">prep</textPath>\n",
              "    </text>\n",
              "    <path class=\"displacy-arrowhead\" d=\"M905.0,441.5 L913.0,429.5 897.0,429.5\" fill=\"currentColor\"/>\n",
              "</g>\n",
              "\n",
              "<g class=\"displacy-arrow\">\n",
              "    <path class=\"displacy-arc\" id=\"arrow-528f0cff1d1943169405559761d8ec5d-0-6\" stroke-width=\"2px\" d=\"M945,439.5 C945,352.0 1080.0,352.0 1080.0,439.5\" fill=\"none\" stroke=\"currentColor\"/>\n",
              "    <text dy=\"1.25em\" style=\"font-size: 0.8em; letter-spacing: 1px\">\n",
              "        <textPath xlink:href=\"#arrow-528f0cff1d1943169405559761d8ec5d-0-6\" class=\"displacy-label\" startOffset=\"50%\" side=\"left\" fill=\"currentColor\" text-anchor=\"middle\">pobj</textPath>\n",
              "    </text>\n",
              "    <path class=\"displacy-arrowhead\" d=\"M1080.0,441.5 L1088.0,429.5 1072.0,429.5\" fill=\"currentColor\"/>\n",
              "</g>\n",
              "\n",
              "<g class=\"displacy-arrow\">\n",
              "    <path class=\"displacy-arc\" id=\"arrow-528f0cff1d1943169405559761d8ec5d-0-7\" stroke-width=\"2px\" d=\"M1120,439.5 C1120,352.0 1255.0,352.0 1255.0,439.5\" fill=\"none\" stroke=\"currentColor\"/>\n",
              "    <text dy=\"1.25em\" style=\"font-size: 0.8em; letter-spacing: 1px\">\n",
              "        <textPath xlink:href=\"#arrow-528f0cff1d1943169405559761d8ec5d-0-7\" class=\"displacy-label\" startOffset=\"50%\" side=\"left\" fill=\"currentColor\" text-anchor=\"middle\">cc</textPath>\n",
              "    </text>\n",
              "    <path class=\"displacy-arrowhead\" d=\"M1255.0,441.5 L1263.0,429.5 1247.0,429.5\" fill=\"currentColor\"/>\n",
              "</g>\n",
              "\n",
              "<g class=\"displacy-arrow\">\n",
              "    <path class=\"displacy-arc\" id=\"arrow-528f0cff1d1943169405559761d8ec5d-0-8\" stroke-width=\"2px\" d=\"M1120,439.5 C1120,264.5 1435.0,264.5 1435.0,439.5\" fill=\"none\" stroke=\"currentColor\"/>\n",
              "    <text dy=\"1.25em\" style=\"font-size: 0.8em; letter-spacing: 1px\">\n",
              "        <textPath xlink:href=\"#arrow-528f0cff1d1943169405559761d8ec5d-0-8\" class=\"displacy-label\" startOffset=\"50%\" side=\"left\" fill=\"currentColor\" text-anchor=\"middle\">conj</textPath>\n",
              "    </text>\n",
              "    <path class=\"displacy-arrowhead\" d=\"M1435.0,441.5 L1443.0,429.5 1427.0,429.5\" fill=\"currentColor\"/>\n",
              "</g>\n",
              "\n",
              "<g class=\"displacy-arrow\">\n",
              "    <path class=\"displacy-arc\" id=\"arrow-528f0cff1d1943169405559761d8ec5d-0-9\" stroke-width=\"2px\" d=\"M1470,439.5 C1470,352.0 1605.0,352.0 1605.0,439.5\" fill=\"none\" stroke=\"currentColor\"/>\n",
              "    <text dy=\"1.25em\" style=\"font-size: 0.8em; letter-spacing: 1px\">\n",
              "        <textPath xlink:href=\"#arrow-528f0cff1d1943169405559761d8ec5d-0-9\" class=\"displacy-label\" startOffset=\"50%\" side=\"left\" fill=\"currentColor\" text-anchor=\"middle\">prep</textPath>\n",
              "    </text>\n",
              "    <path class=\"displacy-arrowhead\" d=\"M1605.0,441.5 L1613.0,429.5 1597.0,429.5\" fill=\"currentColor\"/>\n",
              "</g>\n",
              "\n",
              "<g class=\"displacy-arrow\">\n",
              "    <path class=\"displacy-arc\" id=\"arrow-528f0cff1d1943169405559761d8ec5d-0-10\" stroke-width=\"2px\" d=\"M1645,439.5 C1645,352.0 1780.0,352.0 1780.0,439.5\" fill=\"none\" stroke=\"currentColor\"/>\n",
              "    <text dy=\"1.25em\" style=\"font-size: 0.8em; letter-spacing: 1px\">\n",
              "        <textPath xlink:href=\"#arrow-528f0cff1d1943169405559761d8ec5d-0-10\" class=\"displacy-label\" startOffset=\"50%\" side=\"left\" fill=\"currentColor\" text-anchor=\"middle\">pobj</textPath>\n",
              "    </text>\n",
              "    <path class=\"displacy-arrowhead\" d=\"M1780.0,441.5 L1788.0,429.5 1772.0,429.5\" fill=\"currentColor\"/>\n",
              "</g>\n",
              "\n",
              "<g class=\"displacy-arrow\">\n",
              "    <path class=\"displacy-arc\" id=\"arrow-528f0cff1d1943169405559761d8ec5d-0-11\" stroke-width=\"2px\" d=\"M2170,439.5 C2170,352.0 2305.0,352.0 2305.0,439.5\" fill=\"none\" stroke=\"currentColor\"/>\n",
              "    <text dy=\"1.25em\" style=\"font-size: 0.8em; letter-spacing: 1px\">\n",
              "        <textPath xlink:href=\"#arrow-528f0cff1d1943169405559761d8ec5d-0-11\" class=\"displacy-label\" startOffset=\"50%\" side=\"left\" fill=\"currentColor\" text-anchor=\"middle\">det</textPath>\n",
              "    </text>\n",
              "    <path class=\"displacy-arrowhead\" d=\"M2170,441.5 L2162,429.5 2178,429.5\" fill=\"currentColor\"/>\n",
              "</g>\n",
              "\n",
              "<g class=\"displacy-arrow\">\n",
              "    <path class=\"displacy-arc\" id=\"arrow-528f0cff1d1943169405559761d8ec5d-0-12\" stroke-width=\"2px\" d=\"M1995,439.5 C1995,264.5 2310.0,264.5 2310.0,439.5\" fill=\"none\" stroke=\"currentColor\"/>\n",
              "    <text dy=\"1.25em\" style=\"font-size: 0.8em; letter-spacing: 1px\">\n",
              "        <textPath xlink:href=\"#arrow-528f0cff1d1943169405559761d8ec5d-0-12\" class=\"displacy-label\" startOffset=\"50%\" side=\"left\" fill=\"currentColor\" text-anchor=\"middle\">attr</textPath>\n",
              "    </text>\n",
              "    <path class=\"displacy-arrowhead\" d=\"M2310.0,441.5 L2318.0,429.5 2302.0,429.5\" fill=\"currentColor\"/>\n",
              "</g>\n",
              "\n",
              "<g class=\"displacy-arrow\">\n",
              "    <path class=\"displacy-arc\" id=\"arrow-528f0cff1d1943169405559761d8ec5d-0-13\" stroke-width=\"2px\" d=\"M2345,439.5 C2345,352.0 2480.0,352.0 2480.0,439.5\" fill=\"none\" stroke=\"currentColor\"/>\n",
              "    <text dy=\"1.25em\" style=\"font-size: 0.8em; letter-spacing: 1px\">\n",
              "        <textPath xlink:href=\"#arrow-528f0cff1d1943169405559761d8ec5d-0-13\" class=\"displacy-label\" startOffset=\"50%\" side=\"left\" fill=\"currentColor\" text-anchor=\"middle\">prep</textPath>\n",
              "    </text>\n",
              "    <path class=\"displacy-arrowhead\" d=\"M2480.0,441.5 L2488.0,429.5 2472.0,429.5\" fill=\"currentColor\"/>\n",
              "</g>\n",
              "\n",
              "<g class=\"displacy-arrow\">\n",
              "    <path class=\"displacy-arc\" id=\"arrow-528f0cff1d1943169405559761d8ec5d-0-14\" stroke-width=\"2px\" d=\"M2520,439.5 C2520,352.0 2655.0,352.0 2655.0,439.5\" fill=\"none\" stroke=\"currentColor\"/>\n",
              "    <text dy=\"1.25em\" style=\"font-size: 0.8em; letter-spacing: 1px\">\n",
              "        <textPath xlink:href=\"#arrow-528f0cff1d1943169405559761d8ec5d-0-14\" class=\"displacy-label\" startOffset=\"50%\" side=\"left\" fill=\"currentColor\" text-anchor=\"middle\">pobj</textPath>\n",
              "    </text>\n",
              "    <path class=\"displacy-arrowhead\" d=\"M2655.0,441.5 L2663.0,429.5 2647.0,429.5\" fill=\"currentColor\"/>\n",
              "</g>\n",
              "\n",
              "<g class=\"displacy-arrow\">\n",
              "    <path class=\"displacy-arc\" id=\"arrow-528f0cff1d1943169405559761d8ec5d-0-15\" stroke-width=\"2px\" d=\"M2870,439.5 C2870,352.0 3005.0,352.0 3005.0,439.5\" fill=\"none\" stroke=\"currentColor\"/>\n",
              "    <text dy=\"1.25em\" style=\"font-size: 0.8em; letter-spacing: 1px\">\n",
              "        <textPath xlink:href=\"#arrow-528f0cff1d1943169405559761d8ec5d-0-15\" class=\"displacy-label\" startOffset=\"50%\" side=\"left\" fill=\"currentColor\" text-anchor=\"middle\">nsubj</textPath>\n",
              "    </text>\n",
              "    <path class=\"displacy-arrowhead\" d=\"M2870,441.5 L2862,429.5 2878,429.5\" fill=\"currentColor\"/>\n",
              "</g>\n",
              "\n",
              "<g class=\"displacy-arrow\">\n",
              "    <path class=\"displacy-arc\" id=\"arrow-528f0cff1d1943169405559761d8ec5d-0-16\" stroke-width=\"2px\" d=\"M2695,439.5 C2695,264.5 3010.0,264.5 3010.0,439.5\" fill=\"none\" stroke=\"currentColor\"/>\n",
              "    <text dy=\"1.25em\" style=\"font-size: 0.8em; letter-spacing: 1px\">\n",
              "        <textPath xlink:href=\"#arrow-528f0cff1d1943169405559761d8ec5d-0-16\" class=\"displacy-label\" startOffset=\"50%\" side=\"left\" fill=\"currentColor\" text-anchor=\"middle\">relcl</textPath>\n",
              "    </text>\n",
              "    <path class=\"displacy-arrowhead\" d=\"M3010.0,441.5 L3018.0,429.5 3002.0,429.5\" fill=\"currentColor\"/>\n",
              "</g>\n",
              "\n",
              "<g class=\"displacy-arrow\">\n",
              "    <path class=\"displacy-arc\" id=\"arrow-528f0cff1d1943169405559761d8ec5d-0-17\" stroke-width=\"2px\" d=\"M3220,439.5 C3220,264.5 3535.0,264.5 3535.0,439.5\" fill=\"none\" stroke=\"currentColor\"/>\n",
              "    <text dy=\"1.25em\" style=\"font-size: 0.8em; letter-spacing: 1px\">\n",
              "        <textPath xlink:href=\"#arrow-528f0cff1d1943169405559761d8ec5d-0-17\" class=\"displacy-label\" startOffset=\"50%\" side=\"left\" fill=\"currentColor\" text-anchor=\"middle\">amod</textPath>\n",
              "    </text>\n",
              "    <path class=\"displacy-arrowhead\" d=\"M3220,441.5 L3212,429.5 3228,429.5\" fill=\"currentColor\"/>\n",
              "</g>\n",
              "\n",
              "<g class=\"displacy-arrow\">\n",
              "    <path class=\"displacy-arc\" id=\"arrow-528f0cff1d1943169405559761d8ec5d-0-18\" stroke-width=\"2px\" d=\"M3395,439.5 C3395,352.0 3530.0,352.0 3530.0,439.5\" fill=\"none\" stroke=\"currentColor\"/>\n",
              "    <text dy=\"1.25em\" style=\"font-size: 0.8em; letter-spacing: 1px\">\n",
              "        <textPath xlink:href=\"#arrow-528f0cff1d1943169405559761d8ec5d-0-18\" class=\"displacy-label\" startOffset=\"50%\" side=\"left\" fill=\"currentColor\" text-anchor=\"middle\">amod</textPath>\n",
              "    </text>\n",
              "    <path class=\"displacy-arrowhead\" d=\"M3395,441.5 L3387,429.5 3403,429.5\" fill=\"currentColor\"/>\n",
              "</g>\n",
              "\n",
              "<g class=\"displacy-arrow\">\n",
              "    <path class=\"displacy-arc\" id=\"arrow-528f0cff1d1943169405559761d8ec5d-0-19\" stroke-width=\"2px\" d=\"M3045,439.5 C3045,177.0 3540.0,177.0 3540.0,439.5\" fill=\"none\" stroke=\"currentColor\"/>\n",
              "    <text dy=\"1.25em\" style=\"font-size: 0.8em; letter-spacing: 1px\">\n",
              "        <textPath xlink:href=\"#arrow-528f0cff1d1943169405559761d8ec5d-0-19\" class=\"displacy-label\" startOffset=\"50%\" side=\"left\" fill=\"currentColor\" text-anchor=\"middle\">dobj</textPath>\n",
              "    </text>\n",
              "    <path class=\"displacy-arrowhead\" d=\"M3540.0,441.5 L3548.0,429.5 3532.0,429.5\" fill=\"currentColor\"/>\n",
              "</g>\n",
              "</svg></span>"
            ],
            "text/plain": [
              "<IPython.core.display.HTML object>"
            ]
          },
          "metadata": {},
          "output_type": "display_data"
        }
      ]
    },
    {
      "cell_type": "code",
      "metadata": {
        "id": "7Vpw2q4g1yKf"
      },
      "source": [
        "from IPython.display import display"
      ],
      "execution_count": null,
      "outputs": []
    },
    {
      "cell_type": "code",
      "metadata": {
        "id": "-y4BMYarxH4X"
      },
      "source": [
        "from nltk.tree import Tree"
      ],
      "execution_count": null,
      "outputs": []
    },
    {
      "cell_type": "code",
      "metadata": {
        "colab": {
          "base_uri": "https://localhost:8080/",
          "height": 250
        },
        "id": "1TXVPHQQvzP7",
        "outputId": "22a457db-4af6-47c8-ef4c-bdb0fd84057a"
      },
      "source": [
        "#nltk can convert parsed trees from text, you can go use them like any tree datastructure\n",
        "tree = Tree.fromstring('(S (NP (NP (DT The) (NN time)) (PP (IN for) (NP (NN action)))) (VP (VBZ is) (ADVP (RB now))) (. .))')\n",
        "display(tree)"
      ],
      "execution_count": null,
      "outputs": [
        {
          "data": {
            "image/png": "[encoded data removed]",
            "text/plain": [
              "Tree('S', [Tree('NP', [Tree('NP', [Tree('DT', ['The']), Tree('NN', ['time'])]), Tree('PP', [Tree('IN', ['for']), Tree('NP', [Tree('NN', ['action'])])])]), Tree('VP', [Tree('VBZ', ['is']), Tree('ADVP', [Tree('RB', ['now'])])]), Tree('.', ['.'])])"
            ]
          },
          "metadata": {},
          "output_type": "display_data"
        }
      ]
    },
    {
      "cell_type": "code",
      "metadata": {
        "colab": {
          "base_uri": "https://localhost:8080/"
        },
        "id": "80GhCdt3zWkr",
        "outputId": "5ebbf6be-66af-47ca-f8fb-e2736ac44b81"
      },
      "source": [
        "#Berkeley neural parser\n",
        "!pip install benepar\n",
        "!python3 -m spacy download en_core_web_md"
      ],
      "execution_count": null,
      "outputs": [
        {
          "name": "stdout",
          "output_type": "stream",
          "text": [
            "Collecting benepar\n",
            "  Downloading benepar-0.2.0.tar.gz (33 kB)\n",
            "Requirement already satisfied: nltk>=3.2 in /usr/local/lib/python3.7/dist-packages (from benepar) (3.2.5)\n",
            "Requirement already satisfied: spacy>=2.0.9 in /usr/local/lib/python3.7/dist-packages (from benepar) (2.2.4)\n",
            "Requirement already satisfied: torch>=1.6.0 in /usr/local/lib/python3.7/dist-packages (from benepar) (1.10.0+cu111)\n",
            "Collecting torch-struct>=0.5\n",
            "  Downloading torch_struct-0.5-py3-none-any.whl (34 kB)\n",
            "Collecting tokenizers>=0.9.4\n",
            "  Downloading tokenizers-0.10.3-cp37-cp37m-manylinux_2_5_x86_64.manylinux1_x86_64.manylinux_2_12_x86_64.manylinux2010_x86_64.whl (3.3 MB)\n",
            "\u001b[K     |████████████████████████████████| 3.3 MB 26.9 MB/s \n",
            "\u001b[?25hCollecting transformers[tokenizers,torch]>=4.2.2\n",
            "  Downloading transformers-4.12.5-py3-none-any.whl (3.1 MB)\n",
            "\u001b[K     |████████████████████████████████| 3.1 MB 49.0 MB/s \n",
            "\u001b[?25hRequirement already satisfied: protobuf in /usr/local/lib/python3.7/dist-packages (from benepar) (3.17.3)\n",
            "Collecting sentencepiece>=0.1.91\n",
            "  Downloading sentencepiece-0.1.96-cp37-cp37m-manylinux_2_17_x86_64.manylinux2014_x86_64.whl (1.2 MB)\n",
            "\u001b[K     |████████████████████████████████| 1.2 MB 53.8 MB/s \n",
            "\u001b[?25hRequirement already satisfied: six in /usr/local/lib/python3.7/dist-packages (from nltk>=3.2->benepar) (1.15.0)\n",
            "Requirement already satisfied: numpy>=1.15.0 in /usr/local/lib/python3.7/dist-packages (from spacy>=2.0.9->benepar) (1.19.5)\n",
            "Requirement already satisfied: plac<1.2.0,>=0.9.6 in /usr/local/lib/python3.7/dist-packages (from spacy>=2.0.9->benepar) (1.1.3)\n",
            "Requirement already satisfied: srsly<1.1.0,>=1.0.2 in /usr/local/lib/python3.7/dist-packages (from spacy>=2.0.9->benepar) (1.0.5)\n",
            "Requirement already satisfied: murmurhash<1.1.0,>=0.28.0 in /usr/local/lib/python3.7/dist-packages (from spacy>=2.0.9->benepar) (1.0.6)\n",
            "Requirement already satisfied: wasabi<1.1.0,>=0.4.0 in /usr/local/lib/python3.7/dist-packages (from spacy>=2.0.9->benepar) (0.8.2)\n",
            "Requirement already satisfied: catalogue<1.1.0,>=0.0.7 in /usr/local/lib/python3.7/dist-packages (from spacy>=2.0.9->benepar) (1.0.0)\n",
            "Requirement already satisfied: requests<3.0.0,>=2.13.0 in /usr/local/lib/python3.7/dist-packages (from spacy>=2.0.9->benepar) (2.23.0)\n",
            "Requirement already satisfied: cymem<2.1.0,>=2.0.2 in /usr/local/lib/python3.7/dist-packages (from spacy>=2.0.9->benepar) (2.0.6)\n",
            "Requirement already satisfied: tqdm<5.0.0,>=4.38.0 in /usr/local/lib/python3.7/dist-packages (from spacy>=2.0.9->benepar) (4.62.3)\n",
            "Requirement already satisfied: setuptools in /usr/local/lib/python3.7/dist-packages (from spacy>=2.0.9->benepar) (57.4.0)\n",
            "Requirement already satisfied: thinc==7.4.0 in /usr/local/lib/python3.7/dist-packages (from spacy>=2.0.9->benepar) (7.4.0)\n",
            "Requirement already satisfied: blis<0.5.0,>=0.4.0 in /usr/local/lib/python3.7/dist-packages (from spacy>=2.0.9->benepar) (0.4.1)\n",
            "Requirement already satisfied: preshed<3.1.0,>=3.0.2 in /usr/local/lib/python3.7/dist-packages (from spacy>=2.0.9->benepar) (3.0.6)\n",
            "Requirement already satisfied: importlib-metadata>=0.20 in /usr/local/lib/python3.7/dist-packages (from catalogue<1.1.0,>=0.0.7->spacy>=2.0.9->benepar) (4.8.2)\n",
            "Requirement already satisfied: typing-extensions>=3.6.4 in /usr/local/lib/python3.7/dist-packages (from importlib-metadata>=0.20->catalogue<1.1.0,>=0.0.7->spacy>=2.0.9->benepar) (3.10.0.2)\n",
            "Requirement already satisfied: zipp>=0.5 in /usr/local/lib/python3.7/dist-packages (from importlib-metadata>=0.20->catalogue<1.1.0,>=0.0.7->spacy>=2.0.9->benepar) (3.6.0)\n",
            "Requirement already satisfied: certifi>=2017.4.17 in /usr/local/lib/python3.7/dist-packages (from requests<3.0.0,>=2.13.0->spacy>=2.0.9->benepar) (2021.10.8)\n",
            "Requirement already satisfied: idna<3,>=2.5 in /usr/local/lib/python3.7/dist-packages (from requests<3.0.0,>=2.13.0->spacy>=2.0.9->benepar) (2.10)\n",
            "Requirement already satisfied: urllib3!=1.25.0,!=1.25.1,<1.26,>=1.21.1 in /usr/local/lib/python3.7/dist-packages (from requests<3.0.0,>=2.13.0->spacy>=2.0.9->benepar) (1.24.3)\n",
            "Requirement already satisfied: chardet<4,>=3.0.2 in /usr/local/lib/python3.7/dist-packages (from requests<3.0.0,>=2.13.0->spacy>=2.0.9->benepar) (3.0.4)\n",
            "Requirement already satisfied: filelock in /usr/local/lib/python3.7/dist-packages (from transformers[tokenizers,torch]>=4.2.2->benepar) (3.4.0)\n",
            "Requirement already satisfied: regex!=2019.12.17 in /usr/local/lib/python3.7/dist-packages (from transformers[tokenizers,torch]>=4.2.2->benepar) (2019.12.20)\n",
            "Collecting huggingface-hub<1.0,>=0.1.0\n",
            "  Downloading huggingface_hub-0.2.1-py3-none-any.whl (61 kB)\n",
            "\u001b[K     |████████████████████████████████| 61 kB 611 kB/s \n",
            "\u001b[?25hCollecting pyyaml>=5.1\n",
            "  Downloading PyYAML-6.0-cp37-cp37m-manylinux_2_5_x86_64.manylinux1_x86_64.manylinux_2_12_x86_64.manylinux2010_x86_64.whl (596 kB)\n",
            "\u001b[K     |████████████████████████████████| 596 kB 84.2 MB/s \n",
            "\u001b[?25hRequirement already satisfied: packaging>=20.0 in /usr/local/lib/python3.7/dist-packages (from transformers[tokenizers,torch]>=4.2.2->benepar) (21.3)\n",
            "Collecting sacremoses\n",
            "  Downloading sacremoses-0.0.46-py3-none-any.whl (895 kB)\n",
            "\u001b[K     |████████████████████████████████| 895 kB 85.6 MB/s \n",
            "\u001b[?25hRequirement already satisfied: pyparsing!=3.0.5,>=2.0.2 in /usr/local/lib/python3.7/dist-packages (from packaging>=20.0->transformers[tokenizers,torch]>=4.2.2->benepar) (3.0.6)\n",
            "Requirement already satisfied: joblib in /usr/local/lib/python3.7/dist-packages (from sacremoses->transformers[tokenizers,torch]>=4.2.2->benepar) (1.1.0)\n",
            "Requirement already satisfied: click in /usr/local/lib/python3.7/dist-packages (from sacremoses->transformers[tokenizers,torch]>=4.2.2->benepar) (7.1.2)\n",
            "Building wheels for collected packages: benepar\n",
            "  Building wheel for benepar (setup.py) ... \u001b[?25l\u001b[?25hdone\n",
            "  Created wheel for benepar: filename=benepar-0.2.0-py3-none-any.whl size=37647 sha256=a6caca32bfc7fc4acee8b61e9d8c07ef16b7495551a031b2aa11b45fa898b09f\n",
            "  Stored in directory: /root/.cache/pip/wheels/dc/6f/a3/4d27ce92766bdedd2cbbbedb8857fb7a53534331191cda4994\n",
            "Successfully built benepar\n",
            "Installing collected packages: pyyaml, tokenizers, sacremoses, huggingface-hub, transformers, torch-struct, sentencepiece, benepar\n",
            "  Attempting uninstall: pyyaml\n",
            "    Found existing installation: PyYAML 3.13\n",
            "    Uninstalling PyYAML-3.13:\n",
            "      Successfully uninstalled PyYAML-3.13\n",
            "Successfully installed benepar-0.2.0 huggingface-hub-0.2.1 pyyaml-6.0 sacremoses-0.0.46 sentencepiece-0.1.96 tokenizers-0.10.3 torch-struct-0.5 transformers-4.12.5\n",
            "Collecting en_core_web_md==2.2.5\n",
            "  Downloading https://github.com/explosion/spacy-models/releases/download/en_core_web_md-2.2.5/en_core_web_md-2.2.5.tar.gz (96.4 MB)\n",
            "\u001b[K     |████████████████████████████████| 96.4 MB 1.2 MB/s \n",
            "\u001b[?25hRequirement already satisfied: spacy>=2.2.2 in /usr/local/lib/python3.7/dist-packages (from en_core_web_md==2.2.5) (2.2.4)\n",
            "Requirement already satisfied: plac<1.2.0,>=0.9.6 in /usr/local/lib/python3.7/dist-packages (from spacy>=2.2.2->en_core_web_md==2.2.5) (1.1.3)\n",
            "Requirement already satisfied: catalogue<1.1.0,>=0.0.7 in /usr/local/lib/python3.7/dist-packages (from spacy>=2.2.2->en_core_web_md==2.2.5) (1.0.0)\n",
            "Requirement already satisfied: blis<0.5.0,>=0.4.0 in /usr/local/lib/python3.7/dist-packages (from spacy>=2.2.2->en_core_web_md==2.2.5) (0.4.1)\n",
            "Requirement already satisfied: cymem<2.1.0,>=2.0.2 in /usr/local/lib/python3.7/dist-packages (from spacy>=2.2.2->en_core_web_md==2.2.5) (2.0.6)\n",
            "Requirement already satisfied: wasabi<1.1.0,>=0.4.0 in /usr/local/lib/python3.7/dist-packages (from spacy>=2.2.2->en_core_web_md==2.2.5) (0.8.2)\n",
            "Requirement already satisfied: srsly<1.1.0,>=1.0.2 in /usr/local/lib/python3.7/dist-packages (from spacy>=2.2.2->en_core_web_md==2.2.5) (1.0.5)\n",
            "Requirement already satisfied: murmurhash<1.1.0,>=0.28.0 in /usr/local/lib/python3.7/dist-packages (from spacy>=2.2.2->en_core_web_md==2.2.5) (1.0.6)\n",
            "Requirement already satisfied: requests<3.0.0,>=2.13.0 in /usr/local/lib/python3.7/dist-packages (from spacy>=2.2.2->en_core_web_md==2.2.5) (2.23.0)\n",
            "Requirement already satisfied: tqdm<5.0.0,>=4.38.0 in /usr/local/lib/python3.7/dist-packages (from spacy>=2.2.2->en_core_web_md==2.2.5) (4.62.3)\n",
            "Requirement already satisfied: numpy>=1.15.0 in /usr/local/lib/python3.7/dist-packages (from spacy>=2.2.2->en_core_web_md==2.2.5) (1.19.5)\n",
            "Requirement already satisfied: thinc==7.4.0 in /usr/local/lib/python3.7/dist-packages (from spacy>=2.2.2->en_core_web_md==2.2.5) (7.4.0)\n",
            "Requirement already satisfied: setuptools in /usr/local/lib/python3.7/dist-packages (from spacy>=2.2.2->en_core_web_md==2.2.5) (57.4.0)\n",
            "Requirement already satisfied: preshed<3.1.0,>=3.0.2 in /usr/local/lib/python3.7/dist-packages (from spacy>=2.2.2->en_core_web_md==2.2.5) (3.0.6)\n",
            "Requirement already satisfied: importlib-metadata>=0.20 in /usr/local/lib/python3.7/dist-packages (from catalogue<1.1.0,>=0.0.7->spacy>=2.2.2->en_core_web_md==2.2.5) (4.8.2)\n",
            "Requirement already satisfied: typing-extensions>=3.6.4 in /usr/local/lib/python3.7/dist-packages (from importlib-metadata>=0.20->catalogue<1.1.0,>=0.0.7->spacy>=2.2.2->en_core_web_md==2.2.5) (3.10.0.2)\n",
            "Requirement already satisfied: zipp>=0.5 in /usr/local/lib/python3.7/dist-packages (from importlib-metadata>=0.20->catalogue<1.1.0,>=0.0.7->spacy>=2.2.2->en_core_web_md==2.2.5) (3.6.0)\n",
            "Requirement already satisfied: chardet<4,>=3.0.2 in /usr/local/lib/python3.7/dist-packages (from requests<3.0.0,>=2.13.0->spacy>=2.2.2->en_core_web_md==2.2.5) (3.0.4)\n",
            "Requirement already satisfied: idna<3,>=2.5 in /usr/local/lib/python3.7/dist-packages (from requests<3.0.0,>=2.13.0->spacy>=2.2.2->en_core_web_md==2.2.5) (2.10)\n",
            "Requirement already satisfied: certifi>=2017.4.17 in /usr/local/lib/python3.7/dist-packages (from requests<3.0.0,>=2.13.0->spacy>=2.2.2->en_core_web_md==2.2.5) (2021.10.8)\n",
            "Requirement already satisfied: urllib3!=1.25.0,!=1.25.1,<1.26,>=1.21.1 in /usr/local/lib/python3.7/dist-packages (from requests<3.0.0,>=2.13.0->spacy>=2.2.2->en_core_web_md==2.2.5) (1.24.3)\n",
            "Building wheels for collected packages: en-core-web-md\n",
            "  Building wheel for en-core-web-md (setup.py) ... \u001b[?25l\u001b[?25hdone\n",
            "  Created wheel for en-core-web-md: filename=en_core_web_md-2.2.5-py3-none-any.whl size=98051302 sha256=d120cd2685142b6ec1094e2196c78093a33edcdd9e1a3da09450ecf296590ade\n",
            "  Stored in directory: /tmp/pip-ephem-wheel-cache-7fjtx5f1/wheels/69/c5/b8/4f1c029d89238734311b3269762ab2ee325a42da2ce8edb997\n",
            "Successfully built en-core-web-md\n",
            "Installing collected packages: en-core-web-md\n",
            "Successfully installed en-core-web-md-2.2.5\n",
            "\u001b[38;5;2m✔ Download and installation successful\u001b[0m\n",
            "You can now load the model via spacy.load('en_core_web_md')\n"
          ]
        }
      ]
    },
    {
      "cell_type": "code",
      "metadata": {
        "colab": {
          "base_uri": "https://localhost:8080/"
        },
        "id": "3xDzAqFC7API",
        "outputId": "fc4238c1-c5ca-4123-e15a-215aa08f9a82"
      },
      "source": [
        "import benepar, spacy, en_core_web_sm\n",
        "benepar.download('benepar_en3')"
      ],
      "execution_count": null,
      "outputs": [
        {
          "name": "stdout",
          "output_type": "stream",
          "text": [
            "[nltk_data] Downloading package benepar_en3 to /root/nltk_data...\n",
            "[nltk_data]   Unzipping models/benepar_en3.zip.\n"
          ]
        },
        {
          "data": {
            "text/plain": [
              "True"
            ]
          },
          "execution_count": 21,
          "metadata": {},
          "output_type": "execute_result"
        }
      ]
    },
    {
      "cell_type": "code",
      "metadata": {
        "colab": {
          "base_uri": "https://localhost:8080/",
          "height": 476
        },
        "id": "hHN3gsND2w5c",
        "outputId": "0f8aca9b-2921-427c-838e-431e978838e7"
      },
      "source": [
        "nlp = en_core_web_sm.load()\n",
        "\n",
        "#adding benepar to pipeline to get parsed tree from sentence\n",
        "nlp.add_pipe(benepar.BeneparComponent(\"benepar_en3\"))\n",
        "doc = nlp('In traditional grammar, a part of speech or part-of-speech is a category of words that have similar grammatical properties')\n",
        "sent = list(doc.sents)[0]\n",
        "\n",
        "print(sent._.parse_string)\n",
        "\n",
        "print(sent._.labels)\n",
        "\n",
        "print(list(sent._.children)[0])\n",
        "\n",
        "display(Tree.fromstring(sent._.parse_string))"
      ],
      "execution_count": null,
      "outputs": [
        {
          "name": "stderr",
          "output_type": "stream",
          "text": [
            "/usr/local/lib/python3.7/dist-packages/torch/distributions/distribution.py:46: UserWarning: <class 'torch_struct.distributions.TreeCRF'> does not define `arg_constraints`. Please set `arg_constraints = {}` or initialize the distribution with `validate_args=False` to turn off validation.\n",
            "  'with `validate_args=False` to turn off validation.')\n"
          ]
        },
        {
          "name": "stdout",
          "output_type": "stream",
          "text": [
            "(S (PP (IN In) (NP (JJ traditional) (NN grammar))) (, ,) (NP (NP (NP (DT a) (NN part)) (PP (IN of) (NP (NN speech)))) (CC or) (NP (NP (NN part)) (HYPH -) (PP (IN of) (HYPH -) (NP (NN speech))))) (VP (VBZ is) (NP (NP (DT a) (NN category)) (PP (IN of) (NP (NP (NNS words)) (SBAR (WHNP (WDT that)) (S (VP (VBP have) (NP (JJ similar) (JJ grammatical) (NNS properties))))))))))\n",
            "('S',)\n",
            "In traditional grammar\n"
          ]
        },
        {
          "data": {
            "image/png": "[encoded data removed]",
            "text/plain": [
              "Tree('S', [Tree('PP', [Tree('IN', ['In']), Tree('NP', [Tree('JJ', ['traditional']), Tree('NN', ['grammar'])])]), Tree(',', [',']), Tree('NP', [Tree('NP', [Tree('NP', [Tree('DT', ['a']), Tree('NN', ['part'])]), Tree('PP', [Tree('IN', ['of']), Tree('NP', [Tree('NN', ['speech'])])])]), Tree('CC', ['or']), Tree('NP', [Tree('NP', [Tree('NN', ['part'])]), Tree('HYPH', ['-']), Tree('PP', [Tree('IN', ['of']), Tree('HYPH', ['-']), Tree('NP', [Tree('NN', ['speech'])])])])]), Tree('VP', [Tree('VBZ', ['is']), Tree('NP', [Tree('NP', [Tree('DT', ['a']), Tree('NN', ['category'])]), Tree('PP', [Tree('IN', ['of']), Tree('NP', [Tree('NP', [Tree('NNS', ['words'])]), Tree('SBAR', [Tree('WHNP', [Tree('WDT', ['that'])]), Tree('S', [Tree('VP', [Tree('VBP', ['have']), Tree('NP', [Tree('JJ', ['similar']), Tree('JJ', ['grammatical']), Tree('NNS', ['properties'])])])])])])])])])])"
            ]
          },
          "metadata": {},
          "output_type": "display_data"
        }
      ]
    },
    {
      "cell_type": "code",
      "metadata": {
        "colab": {
          "base_uri": "https://localhost:8080/",
          "height": 291
        },
        "id": "C-QMGmAJ2xji",
        "outputId": "4cd67531-9c75-42ce-c563-30170d6fd7a1"
      },
      "source": [
        "#You can train your own parser using treebank corpuses,\n",
        "#Benepar is a parser that uses neural methods to get the parsed tree, refer to slides for more methods to parse\n",
        "sampleTree = nltk.corpus.treebank.parsed_sents('wsj_0001.mrg')[0] #Penn Treebank corpus\n",
        "display(sampleTree)"
      ],
      "execution_count": null,
      "outputs": [
        {
          "data": {
            "image/png": "[encoded data removed]",
            "text/plain": [
              "Tree('S', [Tree('NP-SBJ', [Tree('NP', [Tree('NNP', ['Pierre']), Tree('NNP', ['Vinken'])]), Tree(',', [',']), Tree('ADJP', [Tree('NP', [Tree('CD', ['61']), Tree('NNS', ['years'])]), Tree('JJ', ['old'])]), Tree(',', [','])]), Tree('VP', [Tree('MD', ['will']), Tree('VP', [Tree('VB', ['join']), Tree('NP', [Tree('DT', ['the']), Tree('NN', ['board'])]), Tree('PP-CLR', [Tree('IN', ['as']), Tree('NP', [Tree('DT', ['a']), Tree('JJ', ['nonexecutive']), Tree('NN', ['director'])])]), Tree('NP-TMP', [Tree('NNP', ['Nov.']), Tree('CD', ['29'])])])]), Tree('.', ['.'])])"
            ]
          },
          "metadata": {},
          "output_type": "display_data"
        }
      ]
    },
    {
      "cell_type": "markdown",
      "metadata": {
        "id": "oHPNJAOIEJ6V"
      },
      "source": [
        "## CFG "
      ]
    },
    {
      "cell_type": "code",
      "metadata": {
        "id": "fzPxwmxCG8j5"
      },
      "source": [
        "#CFG can usually not be automatically generated, hence we define them for small sentences\n",
        "from nltk import CFG\n",
        "grammar = CFG.fromstring(\"\"\"\n",
        "S -> NP VP\n",
        "PP -> P NP\n",
        "NP -> 'the' N | N PP | 'the' N PP\n",
        "VP -> V NP | V PP | V NP PP\n",
        "N -> 'cat'\n",
        "N -> 'dog'\n",
        "N -> 'rug'\n",
        "V -> 'chased'\n",
        "V -> 'sat'\n",
        "P -> 'in'\n",
        "P -> 'on'\n",
        "\"\"\")"
      ],
      "execution_count": null,
      "outputs": []
    },
    {
      "cell_type": "code",
      "metadata": {
        "id": "PQTH6wSvA_f0"
      },
      "source": [
        "sentence1 = 'the cat chased the dog'.split()\n",
        "sentence2 = 'the cat chased the dog on the rug'.split()"
      ],
      "execution_count": null,
      "outputs": []
    },
    {
      "cell_type": "code",
      "metadata": {
        "id": "00SAHEubAIuO"
      },
      "source": [
        "from nltk.parse import RecursiveDescentParser\n",
        "rd = RecursiveDescentParser(grammar) #Refer to slides for the algorithms"
      ],
      "execution_count": null,
      "outputs": []
    },
    {
      "cell_type": "code",
      "metadata": {
        "colab": {
          "base_uri": "https://localhost:8080/",
          "height": 208
        },
        "id": "XvBi6hijDB7R",
        "outputId": "8df224f2-12ae-4e07-b175-8c579da2504f"
      },
      "source": [
        "for t in rd.parse(sentence1):\n",
        "  display(t)"
      ],
      "execution_count": null,
      "outputs": [
        {
          "data": {
            "image/png": "[encoded data removed]",
            "text/plain": [
              "Tree('S', [Tree('NP', ['the', Tree('N', ['cat'])]), Tree('VP', [Tree('V', ['chased']), Tree('NP', ['the', Tree('N', ['dog'])])])])"
            ]
          },
          "metadata": {},
          "output_type": "display_data"
        }
      ]
    },
    {
      "cell_type": "code",
      "metadata": {
        "colab": {
          "base_uri": "https://localhost:8080/",
          "height": 524
        },
        "id": "2RnrC9VWDoNN",
        "outputId": "ebca00a6-b9c3-4294-847e-f7f80e70f290"
      },
      "source": [
        "for t in rd.parse(sentence2):\n",
        "  display(t)"
      ],
      "execution_count": null,
      "outputs": [
        {
          "data": {
            "image/png": "[encoded data removed]",
            "text/plain": [
              "Tree('S', [Tree('NP', ['the', Tree('N', ['cat'])]), Tree('VP', [Tree('V', ['chased']), Tree('NP', ['the', Tree('N', ['dog']), Tree('PP', [Tree('P', ['on']), Tree('NP', ['the', Tree('N', ['rug'])])])])])])"
            ]
          },
          "metadata": {},
          "output_type": "display_data"
        },
        {
          "data": {
            "image/png": "[encoded data removed]",
            "text/plain": [
              "Tree('S', [Tree('NP', ['the', Tree('N', ['cat'])]), Tree('VP', [Tree('V', ['chased']), Tree('NP', ['the', Tree('N', ['dog'])]), Tree('PP', [Tree('P', ['on']), Tree('NP', ['the', Tree('N', ['rug'])])])])])"
            ]
          },
          "metadata": {},
          "output_type": "display_data"
        }
      ]
    },
    {
      "cell_type": "markdown",
      "metadata": {
        "id": "bN7rIwNQAZ1R"
      },
      "source": [
        "Example of ambiguity in CFGs, here one sentence \n",
        "\n",
        "\"Time flies like an arrow\" \n",
        "\n",
        "can be interpreted in 4 different ways, all 4 being grammatically correct, and will have different meaning depending on different contexts "
      ]
    },
    {
      "cell_type": "markdown",
      "metadata": {
        "id": "_XZWuhmbHz_W"
      },
      "source": [
        "![image.png](data:image/png;base64,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)"
      ]
    },
    {
      "cell_type": "code",
      "metadata": {
        "id": "jntj0nzCwB4w"
      },
      "source": [
        "#Defining a new grammar here, feel free to experiment with sentences and look for ambiguous cases\n",
        "grammar1 = nltk.CFG.fromstring(\"\"\"\n",
        "  S -> NP VP\n",
        "  VP -> V NP | V NP PP\n",
        "  PP -> P NP\n",
        "  V -> \"saw\" | \"ate\" | \"walked\"\n",
        "  NP -> \"John\" | \"Mary\" | \"Bob\" | Det N | Det N PP\n",
        "  Det -> \"a\" | \"an\" | \"the\" | \"my\"\n",
        "  N -> \"man\" | \"dog\" | \"cat\" | \"telescope\" | \"park\"\n",
        "  P -> \"in\" | \"on\" | \"by\" | \"with\"\n",
        "  \"\"\")"
      ],
      "execution_count": null,
      "outputs": []
    },
    {
      "cell_type": "code",
      "metadata": {
        "colab": {
          "base_uri": "https://localhost:8080/",
          "height": 1000
        },
        "id": "OOW5p0q4wSQF",
        "outputId": "68516078-cea3-49c7-9ac6-5311778d1d41"
      },
      "source": [
        "#trace helps us see the algorithm in action\n",
        "rd_parser = nltk.RecursiveDescentParser(grammar1, trace=3)\n",
        "sent = 'Mary saw a dog'.split()\n",
        "for tree in rd_parser.parse(sent):\n",
        "  display(tree)"
      ],
      "execution_count": null,
      "outputs": [
        {
          "name": "stdout",
          "output_type": "stream",
          "text": [
            "Parsing 'Mary saw a dog'\n",
            "Start:\n",
            "    [ * S ]\n",
            "Expand: S -> NP VP\n",
            "    [ * NP VP ]\n",
            "Expand: NP -> 'John'\n",
            "    [ * 'John' VP ]\n",
            "Backtrack: 'Mary' match failed\n",
            "Expand: NP -> 'Mary'\n",
            "    [ * 'Mary' VP ]\n",
            "Match: 'Mary'\n",
            "    [ 'Mary' * VP ]\n",
            "Expand: VP -> V NP\n",
            "    [ 'Mary' * V NP ]\n",
            "Expand: V -> 'saw'\n",
            "    [ 'Mary' * 'saw' NP ]\n",
            "Match: 'saw'\n",
            "    [ 'Mary' 'saw' * NP ]\n",
            "Expand: NP -> 'John'\n",
            "    [ 'Mary' 'saw' * 'John' ]\n",
            "Backtrack: 'a' match failed\n",
            "Expand: NP -> 'Mary'\n",
            "    [ 'Mary' 'saw' * 'Mary' ]\n",
            "Backtrack: 'a' match failed\n",
            "Expand: NP -> 'Bob'\n",
            "    [ 'Mary' 'saw' * 'Bob' ]\n",
            "Backtrack: 'a' match failed\n",
            "Expand: NP -> Det N\n",
            "    [ 'Mary' 'saw' * Det N ]\n",
            "Expand: Det -> 'a'\n",
            "    [ 'Mary' 'saw' * 'a' N ]\n",
            "Match: 'a'\n",
            "    [ 'Mary' 'saw' 'a' * N ]\n",
            "Expand: N -> 'man'\n",
            "    [ 'Mary' 'saw' 'a' * 'man' ]\n",
            "Backtrack: 'dog' match failed\n",
            "Expand: N -> 'dog'\n",
            "    [ 'Mary' 'saw' 'a' * 'dog' ]\n",
            "Match: 'dog'\n",
            "    [ 'Mary' 'saw' 'a' 'dog' ]\n",
            "GOOD PARSE:\n",
            "    [ 'Mary' 'saw' 'a' 'dog' ]\n"
          ]
        },
        {
          "data": {
            "image/png": "[encoded data removed]",
            "text/plain": [
              "Tree('S', [Tree('NP', ['Mary']), Tree('VP', [Tree('V', ['saw']), Tree('NP', [Tree('Det', ['a']), Tree('N', ['dog'])])])])"
            ]
          },
          "metadata": {},
          "output_type": "display_data"
        },
        {
          "name": "stdout",
          "output_type": "stream",
          "text": [
            "Expand: N -> 'cat'\n",
            "    [ 'Mary' 'saw' 'a' * 'cat' ]\n",
            "Backtrack: 'dog' match failed\n",
            "Expand: N -> 'telescope'\n",
            "    [ 'Mary' 'saw' 'a' * 'telescope' ]\n",
            "Backtrack: 'dog' match failed\n",
            "Expand: N -> 'park'\n",
            "    [ 'Mary' 'saw' 'a' * 'park' ]\n",
            "Backtrack: 'dog' match failed\n",
            "Expand: Det -> 'an'\n",
            "    [ 'Mary' 'saw' * 'an' N ]\n",
            "Backtrack: 'a' match failed\n",
            "Expand: Det -> 'the'\n",
            "    [ 'Mary' 'saw' * 'the' N ]\n",
            "Backtrack: 'a' match failed\n",
            "Expand: Det -> 'my'\n",
            "    [ 'Mary' 'saw' * 'my' N ]\n",
            "Backtrack: 'a' match failed\n",
            "Expand: NP -> Det N PP\n",
            "    [ 'Mary' 'saw' * Det N PP ]\n",
            "Expand: Det -> 'a'\n",
            "    [ 'Mary' 'saw' * 'a' N PP ]\n",
            "Match: 'a'\n",
            "    [ 'Mary' 'saw' 'a' * N PP ]\n",
            "Expand: N -> 'man'\n",
            "    [ 'Mary' 'saw' 'a' * 'man' PP ]\n",
            "Backtrack: 'dog' match failed\n",
            "Expand: N -> 'dog'\n",
            "    [ 'Mary' 'saw' 'a' * 'dog' PP ]\n",
            "Match: 'dog'\n",
            "    [ 'Mary' 'saw' 'a' 'dog' * PP ]\n",
            "Expand: PP -> P NP\n",
            "    [ 'Mary' 'saw' 'a' 'dog' * P NP ]\n",
            "Expand: P -> 'in'\n",
            "    [ 'Mary' 'saw' 'a' 'dog' * 'in' NP ]\n",
            "Backtrack\n",
            "Expand: P -> 'on'\n",
            "    [ 'Mary' 'saw' 'a' 'dog' * 'on' NP ]\n",
            "Backtrack\n",
            "Expand: P -> 'by'\n",
            "    [ 'Mary' 'saw' 'a' 'dog' * 'by' NP ]\n",
            "Backtrack\n",
            "Expand: P -> 'with'\n",
            "    [ 'Mary' 'saw' 'a' 'dog' * 'with' NP ]\n",
            "Backtrack\n",
            "Expand: N -> 'cat'\n",
            "    [ 'Mary' 'saw' 'a' * 'cat' PP ]\n",
            "Backtrack: 'dog' match failed\n",
            "Expand: N -> 'telescope'\n",
            "    [ 'Mary' 'saw' 'a' * 'telescope' PP ]\n",
            "Backtrack: 'dog' match failed\n",
            "Expand: N -> 'park'\n",
            "    [ 'Mary' 'saw' 'a' * 'park' PP ]\n",
            "Backtrack: 'dog' match failed\n",
            "Expand: Det -> 'an'\n",
            "    [ 'Mary' 'saw' * 'an' N PP ]\n",
            "Backtrack: 'a' match failed\n",
            "Expand: Det -> 'the'\n",
            "    [ 'Mary' 'saw' * 'the' N PP ]\n",
            "Backtrack: 'a' match failed\n",
            "Expand: Det -> 'my'\n",
            "    [ 'Mary' 'saw' * 'my' N PP ]\n",
            "Backtrack: 'a' match failed\n",
            "Expand: V -> 'ate'\n",
            "    [ 'Mary' * 'ate' NP ]\n",
            "Backtrack: 'saw' match failed\n",
            "Expand: V -> 'walked'\n",
            "    [ 'Mary' * 'walked' NP ]\n",
            "Backtrack: 'saw' match failed\n",
            "Expand: VP -> V NP PP\n",
            "    [ 'Mary' * V NP PP ]\n",
            "Expand: V -> 'saw'\n",
            "    [ 'Mary' * 'saw' NP PP ]\n",
            "Match: 'saw'\n",
            "    [ 'Mary' 'saw' * NP PP ]\n",
            "Expand: NP -> 'John'\n",
            "    [ 'Mary' 'saw' * 'John' PP ]\n",
            "Backtrack: 'a' match failed\n",
            "Expand: NP -> 'Mary'\n",
            "    [ 'Mary' 'saw' * 'Mary' PP ]\n",
            "Backtrack: 'a' match failed\n",
            "Expand: NP -> 'Bob'\n",
            "    [ 'Mary' 'saw' * 'Bob' PP ]\n",
            "Backtrack: 'a' match failed\n",
            "Expand: NP -> Det N\n",
            "    [ 'Mary' 'saw' * Det N PP ]\n",
            "Expand: Det -> 'a'\n",
            "    [ 'Mary' 'saw' * 'a' N PP ]\n",
            "Match: 'a'\n",
            "    [ 'Mary' 'saw' 'a' * N PP ]\n",
            "Expand: N -> 'man'\n",
            "    [ 'Mary' 'saw' 'a' * 'man' PP ]\n",
            "Backtrack: 'dog' match failed\n",
            "Expand: N -> 'dog'\n",
            "    [ 'Mary' 'saw' 'a' * 'dog' PP ]\n",
            "Match: 'dog'\n",
            "    [ 'Mary' 'saw' 'a' 'dog' * PP ]\n",
            "Expand: PP -> P NP\n",
            "    [ 'Mary' 'saw' 'a' 'dog' * P NP ]\n",
            "Expand: P -> 'in'\n",
            "    [ 'Mary' 'saw' 'a' 'dog' * 'in' NP ]\n",
            "Backtrack\n",
            "Expand: P -> 'on'\n",
            "    [ 'Mary' 'saw' 'a' 'dog' * 'on' NP ]\n",
            "Backtrack\n",
            "Expand: P -> 'by'\n",
            "    [ 'Mary' 'saw' 'a' 'dog' * 'by' NP ]\n",
            "Backtrack\n",
            "Expand: P -> 'with'\n",
            "    [ 'Mary' 'saw' 'a' 'dog' * 'with' NP ]\n",
            "Backtrack\n",
            "Expand: N -> 'cat'\n",
            "    [ 'Mary' 'saw' 'a' * 'cat' PP ]\n",
            "Backtrack: 'dog' match failed\n",
            "Expand: N -> 'telescope'\n",
            "    [ 'Mary' 'saw' 'a' * 'telescope' PP ]\n",
            "Backtrack: 'dog' match failed\n",
            "Expand: N -> 'park'\n",
            "    [ 'Mary' 'saw' 'a' * 'park' PP ]\n",
            "Backtrack: 'dog' match failed\n",
            "Expand: Det -> 'an'\n",
            "    [ 'Mary' 'saw' * 'an' N PP ]\n",
            "Backtrack: 'a' match failed\n",
            "Expand: Det -> 'the'\n",
            "    [ 'Mary' 'saw' * 'the' N PP ]\n",
            "Backtrack: 'a' match failed\n",
            "Expand: Det -> 'my'\n",
            "    [ 'Mary' 'saw' * 'my' N PP ]\n",
            "Backtrack: 'a' match failed\n",
            "Expand: NP -> Det N PP\n",
            "    [ 'Mary' 'saw' * Det N PP PP ]\n",
            "Expand: Det -> 'a'\n",
            "    [ 'Mary' 'saw' * 'a' N PP PP ]\n",
            "Match: 'a'\n",
            "    [ 'Mary' 'saw' 'a' * N PP PP ]\n",
            "Expand: N -> 'man'\n",
            "    [ 'Mary' 'saw' 'a' * 'man' PP PP ]\n",
            "Backtrack: 'dog' match failed\n",
            "Expand: N -> 'dog'\n",
            "    [ 'Mary' 'saw' 'a' * 'dog' PP PP ]\n",
            "Match: 'dog'\n",
            "    [ 'Mary' 'saw' 'a' 'dog' * PP PP ]\n",
            "Expand: PP -> P NP\n",
            "    [ 'Mary' 'saw' 'a' 'dog' * P NP PP ]\n",
            "Expand: P -> 'in'\n",
            "    [ 'Mary' 'saw' 'a' 'dog' * 'in' NP PP ]\n",
            "Backtrack\n",
            "Expand: P -> 'on'\n",
            "    [ 'Mary' 'saw' 'a' 'dog' * 'on' NP PP ]\n",
            "Backtrack\n",
            "Expand: P -> 'by'\n",
            "    [ 'Mary' 'saw' 'a' 'dog' * 'by' NP PP ]\n",
            "Backtrack\n",
            "Expand: P -> 'with'\n",
            "    [ 'Mary' 'saw' 'a' 'dog' * 'with' NP PP ]\n",
            "Backtrack\n",
            "Expand: N -> 'cat'\n",
            "    [ 'Mary' 'saw' 'a' * 'cat' PP PP ]\n",
            "Backtrack: 'dog' match failed\n",
            "Expand: N -> 'telescope'\n",
            "    [ 'Mary' 'saw' 'a' * 'telescope' PP PP ]\n",
            "Backtrack: 'dog' match failed\n",
            "Expand: N -> 'park'\n",
            "    [ 'Mary' 'saw' 'a' * 'park' PP PP ]\n",
            "Backtrack: 'dog' match failed\n",
            "Expand: Det -> 'an'\n",
            "    [ 'Mary' 'saw' * 'an' N PP PP ]\n",
            "Backtrack: 'a' match failed\n",
            "Expand: Det -> 'the'\n",
            "    [ 'Mary' 'saw' * 'the' N PP PP ]\n",
            "Backtrack: 'a' match failed\n",
            "Expand: Det -> 'my'\n",
            "    [ 'Mary' 'saw' * 'my' N PP PP ]\n",
            "Backtrack: 'a' match failed\n",
            "Expand: V -> 'ate'\n",
            "    [ 'Mary' * 'ate' NP PP ]\n",
            "Backtrack: 'saw' match failed\n",
            "Expand: V -> 'walked'\n",
            "    [ 'Mary' * 'walked' NP PP ]\n",
            "Backtrack: 'saw' match failed\n",
            "Expand: NP -> 'Bob'\n",
            "    [ * 'Bob' VP ]\n",
            "Backtrack: 'Mary' match failed\n",
            "Expand: NP -> Det N\n",
            "    [ * Det N VP ]\n",
            "Expand: Det -> 'a'\n",
            "    [ * 'a' N VP ]\n",
            "Backtrack: 'Mary' match failed\n",
            "Expand: Det -> 'an'\n",
            "    [ * 'an' N VP ]\n",
            "Backtrack: 'Mary' match failed\n",
            "Expand: Det -> 'the'\n",
            "    [ * 'the' N VP ]\n",
            "Backtrack: 'Mary' match failed\n",
            "Expand: Det -> 'my'\n",
            "    [ * 'my' N VP ]\n",
            "Backtrack: 'Mary' match failed\n",
            "Expand: NP -> Det N PP\n",
            "    [ * Det N PP VP ]\n",
            "Expand: Det -> 'a'\n",
            "    [ * 'a' N PP VP ]\n",
            "Backtrack: 'Mary' match failed\n",
            "Expand: Det -> 'an'\n",
            "    [ * 'an' N PP VP ]\n",
            "Backtrack: 'Mary' match failed\n",
            "Expand: Det -> 'the'\n",
            "    [ * 'the' N PP VP ]\n",
            "Backtrack: 'Mary' match failed\n",
            "Expand: Det -> 'my'\n",
            "    [ * 'my' N PP VP ]\n",
            "Backtrack: 'Mary' match failed\n"
          ]
        }
      ]
    },
    {
      "cell_type": "code",
      "metadata": {
        "colab": {
          "base_uri": "https://localhost:8080/"
        },
        "id": "RzmQEGADosC1",
        "outputId": "8d555c88-13e7-4753-b47e-2d9c4d8e93ba"
      },
      "source": [
        "sr_parse = nltk.ShiftReduceParser(grammar1, trace=2)\n",
        "sent = 'Mary saw a dog'.split()\n",
        "for tree in sr_parse.parse(sent):\n",
        "  print(tree)"
      ],
      "execution_count": null,
      "outputs": [
        {
          "name": "stdout",
          "output_type": "stream",
          "text": [
            "Parsing 'Mary saw a dog'\n",
            "    [ * Mary saw a dog]\n",
            "  S [ 'Mary' * saw a dog]\n",
            "  R [ NP * saw a dog]\n",
            "  S [ NP 'saw' * a dog]\n",
            "  R [ NP V * a dog]\n",
            "  S [ NP V 'a' * dog]\n",
            "  R [ NP V Det * dog]\n",
            "  S [ NP V Det 'dog' * ]\n",
            "  R [ NP V Det N * ]\n",
            "  R [ NP V NP * ]\n",
            "  R [ NP VP * ]\n",
            "  R [ S * ]\n",
            "(S (NP Mary) (VP (V saw) (NP (Det a) (N dog))))\n"
          ]
        }
      ]
    },
    {
      "cell_type": "markdown",
      "metadata": {
        "id": "SXagNz3dyeGA"
      },
      "source": [
        "# Dependency Parsing"
      ]
    },
    {
      "cell_type": "code",
      "metadata": {
        "colab": {
          "base_uri": "https://localhost:8080/",
          "height": 592
        },
        "id": "ymtvqFeb2AOq",
        "outputId": "b582fac3-7e52-4c8f-c38e-1f671a37afcd"
      },
      "source": [
        "import spacy\n",
        "from spacy import displacy\n",
        "\n",
        "# Load the language model\n",
        "nlp = spacy.load(\"en_core_web_sm\")\n",
        "\n",
        "# nlp function returns an object with individual token information, \n",
        "# linguistic features, and other things you might have added to the pipelines\n",
        "sent = \"We were amazed by the customer service of the tech department\"\n",
        "#Example of dependency parsing usage, to find relation between words and tag the modifiers\n",
        "\n",
        "doc = nlp(sent)\n",
        "\n",
        "print (\"{:<15} | {:<8} | {:<15} | {:<20}\".format('Token','Relation','Head', 'Children'))\n",
        "print (\"-\" * 70)\n",
        "\n",
        "for token in doc:\n",
        "  # Print the token, dependency nature, head and all dependents of the token\n",
        "  print (\"{:<15} | {:<8} | {:<15} | {:<20}\"\n",
        "         .format(str(token.text), str(token.dep_), str(token.head.text), str([child for child in token.children])))\n",
        "  \n",
        " # Use displayCy to visualize the dependency \n",
        "displacy.render(doc, style='dep', jupyter=True, options={'distance': 120})"
      ],
      "execution_count": null,
      "outputs": [
        {
          "name": "stdout",
          "output_type": "stream",
          "text": [
            "Token           | Relation | Head            | Children            \n",
            "----------------------------------------------------------------------\n",
            "We              | nsubj    | were            | []                  \n",
            "were            | ROOT     | were            | [We, amazed]        \n",
            "amazed          | acomp    | were            | [by]                \n",
            "by              | agent    | amazed          | [service]           \n",
            "the             | det      | service         | []                  \n",
            "customer        | compound | service         | []                  \n",
            "service         | pobj     | by              | [the, customer, of] \n",
            "of              | prep     | service         | [department]        \n",
            "the             | det      | department      | []                  \n",
            "tech            | compound | department      | []                  \n",
            "department      | pobj     | of              | [the, tech]         \n"
          ]
        },
        {
          "data": {
            "text/html": [
              "<span class=\"tex2jax_ignore\"><svg xmlns=\"http://www.w3.org/2000/svg\" xmlns:xlink=\"http://www.w3.org/1999/xlink\" xml:lang=\"en\" id=\"2998d69db1f34f1f8cc9cfce1c67001c-0\" class=\"displacy\" width=\"1370\" height=\"317.0\" direction=\"ltr\" style=\"max-width: none; height: 317.0px; color: #000000; background: #ffffff; font-family: Arial; direction: ltr\">\n",
              "<text class=\"displacy-token\" fill=\"currentColor\" text-anchor=\"middle\" y=\"227.0\">\n",
              "    <tspan class=\"displacy-word\" fill=\"currentColor\" x=\"50\">We</tspan>\n",
              "    <tspan class=\"displacy-tag\" dy=\"2em\" fill=\"currentColor\" x=\"50\">PRON</tspan>\n",
              "</text>\n",
              "\n",
              "<text class=\"displacy-token\" fill=\"currentColor\" text-anchor=\"middle\" y=\"227.0\">\n",
              "    <tspan class=\"displacy-word\" fill=\"currentColor\" x=\"170\">were</tspan>\n",
              "    <tspan class=\"displacy-tag\" dy=\"2em\" fill=\"currentColor\" x=\"170\">AUX</tspan>\n",
              "</text>\n",
              "\n",
              "<text class=\"displacy-token\" fill=\"currentColor\" text-anchor=\"middle\" y=\"227.0\">\n",
              "    <tspan class=\"displacy-word\" fill=\"currentColor\" x=\"290\">amazed</tspan>\n",
              "    <tspan class=\"displacy-tag\" dy=\"2em\" fill=\"currentColor\" x=\"290\">ADJ</tspan>\n",
              "</text>\n",
              "\n",
              "<text class=\"displacy-token\" fill=\"currentColor\" text-anchor=\"middle\" y=\"227.0\">\n",
              "    <tspan class=\"displacy-word\" fill=\"currentColor\" x=\"410\">by</tspan>\n",
              "    <tspan class=\"displacy-tag\" dy=\"2em\" fill=\"currentColor\" x=\"410\">ADP</tspan>\n",
              "</text>\n",
              "\n",
              "<text class=\"displacy-token\" fill=\"currentColor\" text-anchor=\"middle\" y=\"227.0\">\n",
              "    <tspan class=\"displacy-word\" fill=\"currentColor\" x=\"530\">the</tspan>\n",
              "    <tspan class=\"displacy-tag\" dy=\"2em\" fill=\"currentColor\" x=\"530\">DET</tspan>\n",
              "</text>\n",
              "\n",
              "<text class=\"displacy-token\" fill=\"currentColor\" text-anchor=\"middle\" y=\"227.0\">\n",
              "    <tspan class=\"displacy-word\" fill=\"currentColor\" x=\"650\">customer</tspan>\n",
              "    <tspan class=\"displacy-tag\" dy=\"2em\" fill=\"currentColor\" x=\"650\">NOUN</tspan>\n",
              "</text>\n",
              "\n",
              "<text class=\"displacy-token\" fill=\"currentColor\" text-anchor=\"middle\" y=\"227.0\">\n",
              "    <tspan class=\"displacy-word\" fill=\"currentColor\" x=\"770\">service</tspan>\n",
              "    <tspan class=\"displacy-tag\" dy=\"2em\" fill=\"currentColor\" x=\"770\">NOUN</tspan>\n",
              "</text>\n",
              "\n",
              "<text class=\"displacy-token\" fill=\"currentColor\" text-anchor=\"middle\" y=\"227.0\">\n",
              "    <tspan class=\"displacy-word\" fill=\"currentColor\" x=\"890\">of</tspan>\n",
              "    <tspan class=\"displacy-tag\" dy=\"2em\" fill=\"currentColor\" x=\"890\">ADP</tspan>\n",
              "</text>\n",
              "\n",
              "<text class=\"displacy-token\" fill=\"currentColor\" text-anchor=\"middle\" y=\"227.0\">\n",
              "    <tspan class=\"displacy-word\" fill=\"currentColor\" x=\"1010\">the</tspan>\n",
              "    <tspan class=\"displacy-tag\" dy=\"2em\" fill=\"currentColor\" x=\"1010\">DET</tspan>\n",
              "</text>\n",
              "\n",
              "<text class=\"displacy-token\" fill=\"currentColor\" text-anchor=\"middle\" y=\"227.0\">\n",
              "    <tspan class=\"displacy-word\" fill=\"currentColor\" x=\"1130\">tech</tspan>\n",
              "    <tspan class=\"displacy-tag\" dy=\"2em\" fill=\"currentColor\" x=\"1130\">PROPN</tspan>\n",
              "</text>\n",
              "\n",
              "<text class=\"displacy-token\" fill=\"currentColor\" text-anchor=\"middle\" y=\"227.0\">\n",
              "    <tspan class=\"displacy-word\" fill=\"currentColor\" x=\"1250\">department</tspan>\n",
              "    <tspan class=\"displacy-tag\" dy=\"2em\" fill=\"currentColor\" x=\"1250\">PROPN</tspan>\n",
              "</text>\n",
              "\n",
              "<g class=\"displacy-arrow\">\n",
              "    <path class=\"displacy-arc\" id=\"arrow-2998d69db1f34f1f8cc9cfce1c67001c-0-0\" stroke-width=\"2px\" d=\"M70,182.0 C70,122.0 160.0,122.0 160.0,182.0\" fill=\"none\" stroke=\"currentColor\"/>\n",
              "    <text dy=\"1.25em\" style=\"font-size: 0.8em; letter-spacing: 1px\">\n",
              "        <textPath xlink:href=\"#arrow-2998d69db1f34f1f8cc9cfce1c67001c-0-0\" class=\"displacy-label\" startOffset=\"50%\" side=\"left\" fill=\"currentColor\" text-anchor=\"middle\">nsubj</textPath>\n",
              "    </text>\n",
              "    <path class=\"displacy-arrowhead\" d=\"M70,184.0 L62,172.0 78,172.0\" fill=\"currentColor\"/>\n",
              "</g>\n",
              "\n",
              "<g class=\"displacy-arrow\">\n",
              "    <path class=\"displacy-arc\" id=\"arrow-2998d69db1f34f1f8cc9cfce1c67001c-0-1\" stroke-width=\"2px\" d=\"M190,182.0 C190,122.0 280.0,122.0 280.0,182.0\" fill=\"none\" stroke=\"currentColor\"/>\n",
              "    <text dy=\"1.25em\" style=\"font-size: 0.8em; letter-spacing: 1px\">\n",
              "        <textPath xlink:href=\"#arrow-2998d69db1f34f1f8cc9cfce1c67001c-0-1\" class=\"displacy-label\" startOffset=\"50%\" side=\"left\" fill=\"currentColor\" text-anchor=\"middle\">acomp</textPath>\n",
              "    </text>\n",
              "    <path class=\"displacy-arrowhead\" d=\"M280.0,184.0 L288.0,172.0 272.0,172.0\" fill=\"currentColor\"/>\n",
              "</g>\n",
              "\n",
              "<g class=\"displacy-arrow\">\n",
              "    <path class=\"displacy-arc\" id=\"arrow-2998d69db1f34f1f8cc9cfce1c67001c-0-2\" stroke-width=\"2px\" d=\"M310,182.0 C310,122.0 400.0,122.0 400.0,182.0\" fill=\"none\" stroke=\"currentColor\"/>\n",
              "    <text dy=\"1.25em\" style=\"font-size: 0.8em; letter-spacing: 1px\">\n",
              "        <textPath xlink:href=\"#arrow-2998d69db1f34f1f8cc9cfce1c67001c-0-2\" class=\"displacy-label\" startOffset=\"50%\" side=\"left\" fill=\"currentColor\" text-anchor=\"middle\">agent</textPath>\n",
              "    </text>\n",
              "    <path class=\"displacy-arrowhead\" d=\"M400.0,184.0 L408.0,172.0 392.0,172.0\" fill=\"currentColor\"/>\n",
              "</g>\n",
              "\n",
              "<g class=\"displacy-arrow\">\n",
              "    <path class=\"displacy-arc\" id=\"arrow-2998d69db1f34f1f8cc9cfce1c67001c-0-3\" stroke-width=\"2px\" d=\"M550,182.0 C550,62.0 765.0,62.0 765.0,182.0\" fill=\"none\" stroke=\"currentColor\"/>\n",
              "    <text dy=\"1.25em\" style=\"font-size: 0.8em; letter-spacing: 1px\">\n",
              "        <textPath xlink:href=\"#arrow-2998d69db1f34f1f8cc9cfce1c67001c-0-3\" class=\"displacy-label\" startOffset=\"50%\" side=\"left\" fill=\"currentColor\" text-anchor=\"middle\">det</textPath>\n",
              "    </text>\n",
              "    <path class=\"displacy-arrowhead\" d=\"M550,184.0 L542,172.0 558,172.0\" fill=\"currentColor\"/>\n",
              "</g>\n",
              "\n",
              "<g class=\"displacy-arrow\">\n",
              "    <path class=\"displacy-arc\" id=\"arrow-2998d69db1f34f1f8cc9cfce1c67001c-0-4\" stroke-width=\"2px\" d=\"M670,182.0 C670,122.0 760.0,122.0 760.0,182.0\" fill=\"none\" stroke=\"currentColor\"/>\n",
              "    <text dy=\"1.25em\" style=\"font-size: 0.8em; letter-spacing: 1px\">\n",
              "        <textPath xlink:href=\"#arrow-2998d69db1f34f1f8cc9cfce1c67001c-0-4\" class=\"displacy-label\" startOffset=\"50%\" side=\"left\" fill=\"currentColor\" text-anchor=\"middle\">compound</textPath>\n",
              "    </text>\n",
              "    <path class=\"displacy-arrowhead\" d=\"M670,184.0 L662,172.0 678,172.0\" fill=\"currentColor\"/>\n",
              "</g>\n",
              "\n",
              "<g class=\"displacy-arrow\">\n",
              "    <path class=\"displacy-arc\" id=\"arrow-2998d69db1f34f1f8cc9cfce1c67001c-0-5\" stroke-width=\"2px\" d=\"M430,182.0 C430,2.0 770.0,2.0 770.0,182.0\" fill=\"none\" stroke=\"currentColor\"/>\n",
              "    <text dy=\"1.25em\" style=\"font-size: 0.8em; letter-spacing: 1px\">\n",
              "        <textPath xlink:href=\"#arrow-2998d69db1f34f1f8cc9cfce1c67001c-0-5\" class=\"displacy-label\" startOffset=\"50%\" side=\"left\" fill=\"currentColor\" text-anchor=\"middle\">pobj</textPath>\n",
              "    </text>\n",
              "    <path class=\"displacy-arrowhead\" d=\"M770.0,184.0 L778.0,172.0 762.0,172.0\" fill=\"currentColor\"/>\n",
              "</g>\n",
              "\n",
              "<g class=\"displacy-arrow\">\n",
              "    <path class=\"displacy-arc\" id=\"arrow-2998d69db1f34f1f8cc9cfce1c67001c-0-6\" stroke-width=\"2px\" d=\"M790,182.0 C790,122.0 880.0,122.0 880.0,182.0\" fill=\"none\" stroke=\"currentColor\"/>\n",
              "    <text dy=\"1.25em\" style=\"font-size: 0.8em; letter-spacing: 1px\">\n",
              "        <textPath xlink:href=\"#arrow-2998d69db1f34f1f8cc9cfce1c67001c-0-6\" class=\"displacy-label\" startOffset=\"50%\" side=\"left\" fill=\"currentColor\" text-anchor=\"middle\">prep</textPath>\n",
              "    </text>\n",
              "    <path class=\"displacy-arrowhead\" d=\"M880.0,184.0 L888.0,172.0 872.0,172.0\" fill=\"currentColor\"/>\n",
              "</g>\n",
              "\n",
              "<g class=\"displacy-arrow\">\n",
              "    <path class=\"displacy-arc\" id=\"arrow-2998d69db1f34f1f8cc9cfce1c67001c-0-7\" stroke-width=\"2px\" d=\"M1030,182.0 C1030,62.0 1245.0,62.0 1245.0,182.0\" fill=\"none\" stroke=\"currentColor\"/>\n",
              "    <text dy=\"1.25em\" style=\"font-size: 0.8em; letter-spacing: 1px\">\n",
              "        <textPath xlink:href=\"#arrow-2998d69db1f34f1f8cc9cfce1c67001c-0-7\" class=\"displacy-label\" startOffset=\"50%\" side=\"left\" fill=\"currentColor\" text-anchor=\"middle\">det</textPath>\n",
              "    </text>\n",
              "    <path class=\"displacy-arrowhead\" d=\"M1030,184.0 L1022,172.0 1038,172.0\" fill=\"currentColor\"/>\n",
              "</g>\n",
              "\n",
              "<g class=\"displacy-arrow\">\n",
              "    <path class=\"displacy-arc\" id=\"arrow-2998d69db1f34f1f8cc9cfce1c67001c-0-8\" stroke-width=\"2px\" d=\"M1150,182.0 C1150,122.0 1240.0,122.0 1240.0,182.0\" fill=\"none\" stroke=\"currentColor\"/>\n",
              "    <text dy=\"1.25em\" style=\"font-size: 0.8em; letter-spacing: 1px\">\n",
              "        <textPath xlink:href=\"#arrow-2998d69db1f34f1f8cc9cfce1c67001c-0-8\" class=\"displacy-label\" startOffset=\"50%\" side=\"left\" fill=\"currentColor\" text-anchor=\"middle\">compound</textPath>\n",
              "    </text>\n",
              "    <path class=\"displacy-arrowhead\" d=\"M1150,184.0 L1142,172.0 1158,172.0\" fill=\"currentColor\"/>\n",
              "</g>\n",
              "\n",
              "<g class=\"displacy-arrow\">\n",
              "    <path class=\"displacy-arc\" id=\"arrow-2998d69db1f34f1f8cc9cfce1c67001c-0-9\" stroke-width=\"2px\" d=\"M910,182.0 C910,2.0 1250.0,2.0 1250.0,182.0\" fill=\"none\" stroke=\"currentColor\"/>\n",
              "    <text dy=\"1.25em\" style=\"font-size: 0.8em; letter-spacing: 1px\">\n",
              "        <textPath xlink:href=\"#arrow-2998d69db1f34f1f8cc9cfce1c67001c-0-9\" class=\"displacy-label\" startOffset=\"50%\" side=\"left\" fill=\"currentColor\" text-anchor=\"middle\">pobj</textPath>\n",
              "    </text>\n",
              "    <path class=\"displacy-arrowhead\" d=\"M1250.0,184.0 L1258.0,172.0 1242.0,172.0\" fill=\"currentColor\"/>\n",
              "</g>\n",
              "</svg></span>"
            ],
            "text/plain": [
              "<IPython.core.display.HTML object>"
            ]
          },
          "metadata": {},
          "output_type": "display_data"
        }
      ]
    },
    {
      "cell_type": "code",
      "metadata": {
        "colab": {
          "base_uri": "https://localhost:8080/"
        },
        "id": "mBwzrq7OzAe3",
        "outputId": "26455fdf-dd68-42ca-d0ee-37443a8c62e7"
      },
      "source": [
        "#importing corenlp\n",
        "!wget https://nlp.stanford.edu/software/stanford-corenlp-4.2.2.zip\n",
        "!wget https://nlp.stanford.edu/software/stanford-corenlp-4.2.2-models-english.jar\n",
        "!unzip /content/stanford-corenlp-4.2.2.zip"
      ],
      "execution_count": null,
      "outputs": [
        {
          "name": "stdout",
          "output_type": "stream",
          "text": [
            "--2021-12-07 08:34:38--  https://nlp.stanford.edu/software/stanford-corenlp-4.2.2.zip\n",
            "Resolving nlp.stanford.edu (nlp.stanford.edu)... 171.64.67.140\n",
            "Connecting to nlp.stanford.edu (nlp.stanford.edu)|171.64.67.140|:443... connected.\n",
            "HTTP request sent, awaiting response... 302 FOUND\n",
            "Location: https://downloads.cs.stanford.edu/nlp/software/stanford-corenlp-4.2.2.zip [following]\n",
            "--2021-12-07 08:34:39--  https://downloads.cs.stanford.edu/nlp/software/stanford-corenlp-4.2.2.zip\n",
            "Resolving downloads.cs.stanford.edu (downloads.cs.stanford.edu)... 171.64.64.22\n",
            "Connecting to downloads.cs.stanford.edu (downloads.cs.stanford.edu)|171.64.64.22|:443... connected.\n",
            "HTTP request sent, awaiting response... 200 OK\n",
            "Length: 504278711 (481M) [application/zip]\n",
            "Saving to: ‘stanford-corenlp-4.2.2.zip’\n",
            "\n",
            "stanford-corenlp-4. 100%[===================>] 480.92M  4.99MB/s    in 95s     \n",
            "\n",
            "2021-12-07 08:36:14 (5.05 MB/s) - ‘stanford-corenlp-4.2.2.zip’ saved [504278711/504278711]\n",
            "\n",
            "--2021-12-07 08:36:14--  https://nlp.stanford.edu/software/stanford-corenlp-4.2.2-models-english.jar\n",
            "Resolving nlp.stanford.edu (nlp.stanford.edu)... 171.64.67.140\n",
            "Connecting to nlp.stanford.edu (nlp.stanford.edu)|171.64.67.140|:443... connected.\n",
            "HTTP request sent, awaiting response... 302 FOUND\n",
            "Location: https://downloads.cs.stanford.edu/nlp/software/stanford-corenlp-4.2.2-models-english.jar [following]\n",
            "--2021-12-07 08:36:15--  https://downloads.cs.stanford.edu/nlp/software/stanford-corenlp-4.2.2-models-english.jar\n",
            "Resolving downloads.cs.stanford.edu (downloads.cs.stanford.edu)... 171.64.64.22\n",
            "Connecting to downloads.cs.stanford.edu (downloads.cs.stanford.edu)|171.64.64.22|:443... connected.\n",
            "HTTP request sent, awaiting response... 200 OK\n",
            "Length: 444735210 (424M) [application/java-archive]\n",
            "Saving to: ‘stanford-corenlp-4.2.2-models-english.jar’\n",
            "\n",
            "-corenlp-4.2.2-mode  81%[===============>    ] 344.96M  4.95MB/s    eta 15s    "
          ]
        }
      ]
    },
    {
      "cell_type": "code",
      "metadata": {
        "id": "9RfYKipNzC8L"
      },
      "source": [
        "from nltk.parse.stanford import StanfordDependencyParser\n",
        "\n",
        "# Path to CoreNLP jar unzipped\n",
        "jar_path = '/content/stanford-corenlp-4.2.2/stanford-corenlp-4.2.2.jar'\n",
        "\n",
        "# Path to CoreNLP model jar\n",
        "models_jar_path = '/content/stanford-corenlp-4.2.2-models-english.jar'\n",
        "\n",
        "text = \"JetBlue canceled our flight this morning which was already late.\"\n",
        "\n",
        "# Initialize StanfordDependency Parser from the path\n",
        "parser = StanfordDependencyParser(path_to_jar = jar_path, path_to_models_jar = models_jar_path)\n",
        "\n",
        "# Parse the sentence\n",
        "result = parser.raw_parse(text)\n",
        "dependency = result.__next__()\n",
        "\n",
        "\n",
        "print (\"{:<15} | {:<10} | {:<10} | {:<15} | {:<10}\".format('Head', 'Head POS','Relation','Dependent', 'Dependent POS'))\n",
        "print (\"-\" * 75)\n",
        "  \n",
        "# Use dependency.triples() to extract the dependency triples in the form\n",
        "# ((head word, head POS), relation, (dependent word, dependent POS))  \n",
        "for dep in list(dependency.triples()):\n",
        "  print (\"{:<15} | {:<10} | {:<10} | {:<15} | {:<10}\"\n",
        "         .format(str(dep[0][0]),str(dep[0][1]), str(dep[1]), str(dep[2][0]),str(dep[2][1])))"
      ],
      "execution_count": null,
      "outputs": []
    },
    {
      "cell_type": "code",
      "metadata": {
        "id": "5Y9VKP84zMHF"
      },
      "source": [
        "!pip install stanza"
      ],
      "execution_count": null,
      "outputs": []
    },
    {
      "cell_type": "code",
      "metadata": {
        "colab": {
          "background_save": true,
          "referenced_widgets": [
            "aba45d2272574e44b29c25aab1d614a2",
            "4c311446fd9a4fd2b89b2e6d5034dd30"
          ]
        },
        "id": "NhJAA0BU1E4d",
        "outputId": "e1707742-bcc3-4a65-a78c-51a0d5286c2e"
      },
      "source": [
        "import stanza\n",
        "stanza.download('en')"
      ],
      "execution_count": null,
      "outputs": [
        {
          "data": {
            "application/vnd.jupyter.widget-view+json": {
              "model_id": "aba45d2272574e44b29c25aab1d614a2",
              "version_major": 2,
              "version_minor": 0
            },
            "text/plain": [
              "Downloading https://raw.githubusercontent.com/stanfordnlp/stanza-resources/main/resources_1.3.0.json:   0%|   …"
            ]
          },
          "metadata": {},
          "output_type": "display_data"
        },
        {
          "name": "stderr",
          "output_type": "stream",
          "text": [
            "2021-12-07 08:37:50 INFO: Downloading default packages for language: en (English)...\n"
          ]
        },
        {
          "data": {
            "application/vnd.jupyter.widget-view+json": {
              "model_id": "4c311446fd9a4fd2b89b2e6d5034dd30",
              "version_major": 2,
              "version_minor": 0
            },
            "text/plain": [
              "Downloading https://huggingface.co/stanfordnlp/stanza-en/resolve/v1.3.0/models/default.zip:   0%|          | 0…"
            ]
          },
          "metadata": {},
          "output_type": "display_data"
        },
        {
          "name": "stderr",
          "output_type": "stream",
          "text": [
            "2021-12-07 08:38:03 INFO: Finished downloading models and saved to /root/stanza_resources.\n"
          ]
        }
      ]
    },
    {
      "cell_type": "code",
      "metadata": {
        "colab": {
          "background_save": true
        },
        "id": "jmei-vx_1Jmm",
        "outputId": "4b65c2d0-251d-4221-bfbe-d1b06478bfe9"
      },
      "source": [
        "nlp = stanza.Pipeline('en', processors = 'tokenize,mwt,pos,lemma,depparse')"
      ],
      "execution_count": null,
      "outputs": [
        {
          "name": "stderr",
          "output_type": "stream",
          "text": [
            "2021-12-07 08:38:03 WARNING: Can not find mwt: default from official model list. Ignoring it.\n",
            "2021-12-07 08:38:03 INFO: Loading these models for language: en (English):\n",
            "========================\n",
            "| Processor | Package  |\n",
            "------------------------\n",
            "| tokenize  | combined |\n",
            "| pos       | combined |\n",
            "| lemma     | combined |\n",
            "| depparse  | combined |\n",
            "========================\n",
            "\n",
            "2021-12-07 08:38:03 INFO: Use device: cpu\n",
            "2021-12-07 08:38:03 INFO: Loading: tokenize\n",
            "2021-12-07 08:38:03 INFO: Loading: pos\n",
            "2021-12-07 08:38:04 INFO: Loading: lemma\n",
            "2021-12-07 08:38:04 INFO: Loading: depparse\n",
            "2021-12-07 08:38:04 INFO: Done loading processors!\n"
          ]
        }
      ]
    },
    {
      "cell_type": "code",
      "metadata": {
        "colab": {
          "background_save": true
        },
        "id": "EDpIyVbG1TBh"
      },
      "source": [
        "doc = nlp(text)"
      ],
      "execution_count": null,
      "outputs": []
    },
    {
      "cell_type": "code",
      "metadata": {
        "colab": {
          "base_uri": "https://localhost:8080/"
        },
        "id": "WJGgucVv1dHB",
        "outputId": "bd375c65-69a9-4a3b-99bb-76f3b2c1532f"
      },
      "source": [
        "#showing how the pipelined methods help\n",
        "doc.sentences"
      ],
      "execution_count": null,
      "outputs": [
        {
          "data": {
            "text/plain": [
              "[[\n",
              "   {\n",
              "     \"id\": 1,\n",
              "     \"text\": \"JetBlue\",\n",
              "     \"lemma\": \"JetBlue\",\n",
              "     \"upos\": \"PROPN\",\n",
              "     \"xpos\": \"NNP\",\n",
              "     \"feats\": \"Number=Sing\",\n",
              "     \"head\": 2,\n",
              "     \"deprel\": \"nsubj\",\n",
              "     \"start_char\": 0,\n",
              "     \"end_char\": 7\n",
              "   },\n",
              "   {\n",
              "     \"id\": 2,\n",
              "     \"text\": \"canceled\",\n",
              "     \"lemma\": \"cancel\",\n",
              "     \"upos\": \"VERB\",\n",
              "     \"xpos\": \"VBD\",\n",
              "     \"feats\": \"Mood=Ind|Tense=Past|VerbForm=Fin\",\n",
              "     \"head\": 0,\n",
              "     \"deprel\": \"root\",\n",
              "     \"start_char\": 8,\n",
              "     \"end_char\": 16\n",
              "   },\n",
              "   {\n",
              "     \"id\": 3,\n",
              "     \"text\": \"our\",\n",
              "     \"lemma\": \"we\",\n",
              "     \"upos\": \"PRON\",\n",
              "     \"xpos\": \"PRP$\",\n",
              "     \"feats\": \"Number=Plur|Person=1|Poss=Yes|PronType=Prs\",\n",
              "     \"head\": 4,\n",
              "     \"deprel\": \"nmod:poss\",\n",
              "     \"start_char\": 17,\n",
              "     \"end_char\": 20\n",
              "   },\n",
              "   {\n",
              "     \"id\": 4,\n",
              "     \"text\": \"flight\",\n",
              "     \"lemma\": \"flight\",\n",
              "     \"upos\": \"NOUN\",\n",
              "     \"xpos\": \"NN\",\n",
              "     \"feats\": \"Number=Sing\",\n",
              "     \"head\": 2,\n",
              "     \"deprel\": \"obj\",\n",
              "     \"start_char\": 21,\n",
              "     \"end_char\": 27\n",
              "   },\n",
              "   {\n",
              "     \"id\": 5,\n",
              "     \"text\": \"this\",\n",
              "     \"lemma\": \"this\",\n",
              "     \"upos\": \"DET\",\n",
              "     \"xpos\": \"DT\",\n",
              "     \"feats\": \"Number=Sing|PronType=Dem\",\n",
              "     \"head\": 6,\n",
              "     \"deprel\": \"det\",\n",
              "     \"start_char\": 28,\n",
              "     \"end_char\": 32\n",
              "   },\n",
              "   {\n",
              "     \"id\": 6,\n",
              "     \"text\": \"morning\",\n",
              "     \"lemma\": \"morning\",\n",
              "     \"upos\": \"NOUN\",\n",
              "     \"xpos\": \"NN\",\n",
              "     \"feats\": \"Number=Sing\",\n",
              "     \"head\": 2,\n",
              "     \"deprel\": \"obl:tmod\",\n",
              "     \"start_char\": 33,\n",
              "     \"end_char\": 40\n",
              "   },\n",
              "   {\n",
              "     \"id\": 7,\n",
              "     \"text\": \"which\",\n",
              "     \"lemma\": \"which\",\n",
              "     \"upos\": \"PRON\",\n",
              "     \"xpos\": \"WDT\",\n",
              "     \"feats\": \"PronType=Rel\",\n",
              "     \"head\": 10,\n",
              "     \"deprel\": \"nsubj\",\n",
              "     \"start_char\": 41,\n",
              "     \"end_char\": 46\n",
              "   },\n",
              "   {\n",
              "     \"id\": 8,\n",
              "     \"text\": \"was\",\n",
              "     \"lemma\": \"be\",\n",
              "     \"upos\": \"AUX\",\n",
              "     \"xpos\": \"VBD\",\n",
              "     \"feats\": \"Mood=Ind|Number=Sing|Person=3|Tense=Past|VerbForm=Fin\",\n",
              "     \"head\": 10,\n",
              "     \"deprel\": \"cop\",\n",
              "     \"start_char\": 47,\n",
              "     \"end_char\": 50\n",
              "   },\n",
              "   {\n",
              "     \"id\": 9,\n",
              "     \"text\": \"already\",\n",
              "     \"lemma\": \"already\",\n",
              "     \"upos\": \"ADV\",\n",
              "     \"xpos\": \"RB\",\n",
              "     \"head\": 10,\n",
              "     \"deprel\": \"advmod\",\n",
              "     \"start_char\": 51,\n",
              "     \"end_char\": 58\n",
              "   },\n",
              "   {\n",
              "     \"id\": 10,\n",
              "     \"text\": \"late\",\n",
              "     \"lemma\": \"late\",\n",
              "     \"upos\": \"ADJ\",\n",
              "     \"xpos\": \"JJ\",\n",
              "     \"feats\": \"Degree=Pos\",\n",
              "     \"head\": 4,\n",
              "     \"deprel\": \"acl:relcl\",\n",
              "     \"start_char\": 59,\n",
              "     \"end_char\": 63\n",
              "   },\n",
              "   {\n",
              "     \"id\": 11,\n",
              "     \"text\": \".\",\n",
              "     \"lemma\": \".\",\n",
              "     \"upos\": \"PUNCT\",\n",
              "     \"xpos\": \".\",\n",
              "     \"head\": 2,\n",
              "     \"deprel\": \"punct\",\n",
              "     \"start_char\": 63,\n",
              "     \"end_char\": 64\n",
              "   }\n",
              " ]]"
            ]
          },
          "execution_count": 86,
          "metadata": {},
          "output_type": "execute_result"
        }
      ]
    },
    {
      "cell_type": "code",
      "metadata": {
        "colab": {
          "base_uri": "https://localhost:8080/"
        },
        "id": "wnr-shjM1nrX",
        "outputId": "5663003e-fb5f-4bcd-bae1-5b5b7d0d9498"
      },
      "source": [
        "doc.sentences[0].print_dependencies()"
      ],
      "execution_count": null,
      "outputs": [
        {
          "name": "stdout",
          "output_type": "stream",
          "text": [
            "('JetBlue', 2, 'nsubj')\n",
            "('canceled', 0, 'root')\n",
            "('our', 4, 'nmod:poss')\n",
            "('flight', 2, 'obj')\n",
            "('this', 6, 'det')\n",
            "('morning', 2, 'obl:tmod')\n",
            "('which', 10, 'nsubj')\n",
            "('was', 10, 'cop')\n",
            "('already', 10, 'advmod')\n",
            "('late', 4, 'acl:relcl')\n",
            "('.', 2, 'punct')\n"
          ]
        }
      ]
    }
  ]
}