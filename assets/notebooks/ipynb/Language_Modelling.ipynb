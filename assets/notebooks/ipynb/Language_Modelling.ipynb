{
  "nbformat": 4,
  "nbformat_minor": 0,
  "metadata": {
    "colab": {
      "name": "CS F429 Tutorial: Language Modelling.ipynb",
      "provenance": [],
      "collapsed_sections": []
    },
    "kernelspec": {
      "name": "python3",
      "display_name": "Python 3"
    },
    "language_info": {
      "name": "python"
    }
  },
  "cells": [
    {
      "cell_type": "markdown",
      "metadata": {
        "id": "M2TisJLPfOuk"
      },
      "source": [
        "## N-Gram Language Modelling using NLTK\n",
        "### Practical Concepts\n",
        "1. Special Tokens\n",
        "  1. Start Token SOS\n",
        "  2. End Token EOS\n",
        "  3. Unknown Words\n",
        "2. Preprocessing\n",
        "  1. Padding\n",
        "  2. Replace Singletons / UNK"
      ]
    },
    {
      "cell_type": "code",
      "metadata": {
        "id": "hKLTtB7wINrQ"
      },
      "source": [
        "import nltk\n",
        "from pathlib import Path\n",
        "\n",
        "SOS = \"<s> \"\n",
        "EOS = \"</s>\"\n",
        "UNK = \"<UNK>\"\n",
        "\n",
        "def add_sentence_tokens(sentences, n):\n",
        "    \"\"\"Wrap each sentence in SOS and EOS tokens.\n",
        "    For n >= 2, n-1 SOS tokens are added, otherwise only one is added.\n",
        "    Args:\n",
        "        sentences (list of str): the sentences to wrap.\n",
        "        n (int): order of the n-gram model which will use these sentences.\n",
        "    Returns:\n",
        "        List of sentences with SOS and EOS tokens wrapped around them.\n",
        "    \"\"\"\n",
        "    sos = SOS * (n-1) if n > 1 else SOS\n",
        "    return ['{}{} {}'.format(sos, s, EOS) for s in sentences]\n",
        "\n",
        "def replace_singletons(tokens):\n",
        "    \"\"\"Replace tokens which appear only once in the corpus with <UNK>.\n",
        "    \n",
        "    Args:\n",
        "        tokens (list of str): the tokens comprising the corpus.\n",
        "    Returns:\n",
        "        The same list of tokens with each singleton replaced by <UNK>.\n",
        "    \n",
        "    \"\"\"\n",
        "    vocab = nltk.FreqDist(tokens)\n",
        "    return [token if vocab[token] > 1 else UNK for token in tokens]\n",
        "\n",
        "def preprocess(sentences, n):\n",
        "    \"\"\"Add SOS/EOS/UNK tokens to given sentences and tokenize.\n",
        "    Args:\n",
        "        sentences (list of str): the sentences to preprocess.\n",
        "        n (int): order of the n-gram model which will use these sentences.\n",
        "    Returns:\n",
        "        The preprocessed sentences, tokenized by words.\n",
        "    \"\"\"\n",
        "    sentences = add_sentence_tokens(sentences, n)\n",
        "    tokens = ' '.join(sentences).split(' ')\n",
        "    tokens = replace_singletons(tokens)\n",
        "    #Add Preprocessing steps here (Refer to Tutorial 1 & 2)\n",
        "    return tokens"
      ],
      "execution_count": 1,
      "outputs": []
    },
    {
      "cell_type": "code",
      "metadata": {
        "cellView": "form",
        "id": "lIjsOngfefJG"
      },
      "source": [
        "%%capture\n",
        "#@title Data Loading Snippet\n",
        "def load_data(data_dir):\n",
        "    \"\"\"Load train and test corpora from a directory.\n",
        "    Directory must contain two files: train.txt and test.txt.\n",
        "    Newlines will be stripped out. \n",
        "    Args:\n",
        "        data_dir (Path) -- pathlib.Path of the directory to use. \n",
        "    Returns:\n",
        "        The train and test sets, as lists of sentences.\n",
        "    \"\"\"\n",
        "    train_path = data_dir.joinpath('train.txt').absolute().as_posix()\n",
        "    test_path  = data_dir.joinpath('test.txt').absolute().as_posix()\n",
        "\n",
        "    with open(train_path, 'r') as f:\n",
        "        train = [l.strip() for l in f.readlines()]\n",
        "    with open(test_path, 'r') as f:\n",
        "        test = [l.strip() for l in f.readlines()]\n",
        "    return train, test\n",
        "\n",
        "!wget https://raw.githubusercontent.com/joshualoehr/ngram-language-model/master/data/train.txt\n",
        "!wget https://raw.githubusercontent.com/joshualoehr/ngram-language-model/master/data/test.txt\n",
        "\n",
        "data_path = Path(\"./\")\n",
        "train, test = load_data(data_path)"
      ],
      "execution_count": 2,
      "outputs": []
    },
    {
      "cell_type": "markdown",
      "metadata": {
        "id": "d6geTzhp9eQ9"
      },
      "source": [
        "### Lets take a look at some examples from our corpus"
      ]
    },
    {
      "cell_type": "code",
      "metadata": {
        "colab": {
          "base_uri": "https://localhost:8080/"
        },
        "id": "xCpctXdggXTr",
        "outputId": "f8ed7bda-1e9d-445b-8507-12180a5f5dd7"
      },
      "source": [
        "import random\n",
        "print(\"Train Sentences:\\n{}\".format(\"\\n\".join(random.sample(train, 3))))\n",
        "print()\n",
        "print(\"Test Sentences:\\n{}\".format(\"\\n\".join(random.sample(train, 3))))"
      ],
      "execution_count": 3,
      "outputs": [
        {
          "output_type": "stream",
          "name": "stdout",
          "text": [
            "Train Sentences:\n",
            "borden inc bn to redeem 8 1 2 pct debentures\n",
            "cummins engine cum sees improved earnings\n",
            "the bank of japan said it forecast japans broadly defined m 2 money supply average plus certificates of deposit cds will rise by about nine pct in the current april june quarter against 85 pct a year earlier\n",
            "\n",
            "Test Sentences:\n",
            "the issue was increased from an initial offering of 100 mln dlrs\n",
            "that was partly offset by a 04 pct rise in the consumer price index which measures inflation the department said\n",
            "the group lifted net earnings to 1693 mln dlrs in the half ended december 31 from 547 mln a year earlier when it was still in its formative stages\n"
          ]
        }
      ]
    },
    {
      "cell_type": "markdown",
      "metadata": {
        "id": "WIFX6TK99l8b"
      },
      "source": [
        "## Language Model\n",
        "1. Smoothing\n",
        "2. Modelling\n",
        "3. Perplexity\n",
        "4. OOV Conversion\n",
        "5. Sentence Generation"
      ]
    },
    {
      "cell_type": "code",
      "metadata": {
        "id": "iCUiJUwSdCcw"
      },
      "source": [
        "import argparse\n",
        "from itertools import product\n",
        "import math\n",
        "\n",
        "class LanguageModel(object):\n",
        "    \"\"\"An n-gram language model trained on a given corpus.\n",
        "    \n",
        "    For a given n and given training corpus, constructs an n-gram language\n",
        "    model for the corpus by:\n",
        "    1. preprocessing the corpus (adding SOS/EOS/UNK tokens)\n",
        "    2. calculating (smoothed) probabilities for each n-gram\n",
        "    Also contains methods for calculating the perplexity of the model\n",
        "    against another corpus, and for generating sentences.\n",
        "    Args:\n",
        "        train_data (list of str): list of sentences comprising the training corpus.\n",
        "        n (int): the order of language model to build (i.e. 1 for unigram, 2 for bigram, etc.).\n",
        "        laplace (int): lambda multiplier to use for laplace smoothing (default 1 for add-1 smoothing).\n",
        "    \"\"\"\n",
        "\n",
        "    def __init__(self, train_data, n, laplace=1):\n",
        "        self.n = n\n",
        "        self.laplace = laplace\n",
        "        self.tokens = preprocess(train_data, n)\n",
        "        self.vocab  = nltk.FreqDist(self.tokens)\n",
        "        self.model  = self._create_model()\n",
        "        self.masks  = list(reversed(list(product((0,1), repeat=n))))\n",
        "\n",
        "    def _smooth(self):\n",
        "        \"\"\"Apply Laplace smoothing to n-gram frequency distribution.\n",
        "        \n",
        "        Here, n_grams refers to the n-grams of the tokens in the training corpus,\n",
        "        while m_grams refers to the first (n-1) tokens of each n-gram.\n",
        "        Returns:\n",
        "            dict: Mapping of each n-gram (tuple of str) to its Laplace-smoothed \n",
        "            probability (float).\n",
        "        \"\"\"\n",
        "        vocab_size = len(self.vocab)\n",
        "\n",
        "        n_grams = nltk.ngrams(self.tokens, self.n)\n",
        "        n_vocab = nltk.FreqDist(n_grams)\n",
        "\n",
        "        m_grams = nltk.ngrams(self.tokens, self.n-1)\n",
        "        m_vocab = nltk.FreqDist(m_grams)\n",
        "\n",
        "        def smoothed_count(n_gram, n_count):\n",
        "            m_gram = n_gram[:-1]\n",
        "            m_count = m_vocab[m_gram]\n",
        "            return (n_count + self.laplace) / (m_count + self.laplace * vocab_size)\n",
        "\n",
        "        return { n_gram: smoothed_count(n_gram, count) for n_gram, count in n_vocab.items() }\n",
        "\n",
        "    def _create_model(self):\n",
        "        \"\"\"Create a probability distribution for the vocabulary of the training corpus.\n",
        "        \n",
        "        If building a unigram model, the probabilities are simple relative frequencies\n",
        "        of each token with the entire corpus.\n",
        "        Otherwise, the probabilities are Laplace-smoothed relative frequencies.\n",
        "        Returns:\n",
        "            A dict mapping each n-gram (tuple of str) to its probability (float).\n",
        "        \"\"\"\n",
        "        if self.n == 1:\n",
        "            num_tokens = len(self.tokens)\n",
        "            return { (unigram,): count / num_tokens for unigram, count in self.vocab.items() }\n",
        "        else:\n",
        "            return self._smooth()\n",
        "\n",
        "    def _convert_oov(self, ngram):\n",
        "        \"\"\"Convert, if necessary, a given n-gram to one which is known by the model.\n",
        "        Starting with the unmodified ngram, check each possible permutation of the n-gram\n",
        "        with each index of the n-gram containing either the original token or <UNK>. Stop\n",
        "        when the model contains an entry for that permutation.\n",
        "        This is achieved by creating a 'bitmask' for the n-gram tuple, and swapping out\n",
        "        each flagged token for <UNK>. Thus, in the worst case, this function checks 2^n\n",
        "        possible n-grams before returning.\n",
        "        Returns:\n",
        "            The n-gram with <UNK> tokens in certain positions such that the model\n",
        "            contains an entry for it.\n",
        "        \"\"\"\n",
        "        mask = lambda ngram, bitmask: tuple((token if flag == 1 else \"<UNK>\" for token,flag in zip(ngram, bitmask)))\n",
        "\n",
        "        ngram = (ngram,) if type(ngram) is str else ngram\n",
        "        for possible_known in [mask(ngram, bitmask) for bitmask in self.masks]:\n",
        "            if possible_known in self.model:\n",
        "                return possible_known\n",
        "\n",
        "    def perplexity(self, test_data):\n",
        "        \"\"\"Calculate the perplexity of the model against a given test corpus.\n",
        "        \n",
        "        Args:\n",
        "            test_data (list of str): sentences comprising the training corpus.\n",
        "        Returns:\n",
        "            The perplexity of the model as a float.\n",
        "        \n",
        "        \"\"\"\n",
        "        test_tokens = preprocess(test_data, self.n)\n",
        "        test_ngrams = nltk.ngrams(test_tokens, self.n)\n",
        "        N = len(test_tokens)\n",
        "\n",
        "        known_ngrams  = (self._convert_oov(ngram) for ngram in test_ngrams)\n",
        "        probabilities = [self.model[ngram] for ngram in known_ngrams]\n",
        "\n",
        "        return math.exp((-1/N) * sum(map(math.log, probabilities)))\n",
        "\n",
        "    def _best_candidate(self, prev, i, without=[]):\n",
        "        \"\"\"Choose the most likely next token given the previous (n-1) tokens.\n",
        "        If selecting the first word of the sentence (after the SOS tokens),\n",
        "        the i'th best candidate will be selected, to create variety.\n",
        "        If no candidates are found, the EOS token is returned with probability 1.\n",
        "        Args:\n",
        "            prev (tuple of str): the previous n-1 tokens of the sentence.\n",
        "            i (int): which candidate to select if not the most probable one.\n",
        "            without (list of str): tokens to exclude from the candidates list.\n",
        "        Returns:\n",
        "            A tuple with the next most probable token and its corresponding probability.\n",
        "        \"\"\"\n",
        "        blacklist  = [\"<UNK>\"] + without\n",
        "        candidates = ((ngram[-1],prob) for ngram,prob in self.model.items() if ngram[:-1]==prev)\n",
        "        candidates = filter(lambda candidate: candidate[0] not in blacklist, candidates)\n",
        "        candidates = sorted(candidates, key=lambda candidate: candidate[1], reverse=True)\n",
        "        if len(candidates) == 0:\n",
        "            return (\"</s>\", 1)\n",
        "        else:\n",
        "            return candidates[0 if prev != () and prev[-1] != \"<s>\" else i]\n",
        "     \n",
        "    def generate_sentences(self, num, min_len=12, max_len=24):\n",
        "        \"\"\"Generate num random sentences using the language model.\n",
        "        Sentences always begin with the SOS token and end with the EOS token.\n",
        "        While unigram model sentences will only exclude the UNK token, n>1 models\n",
        "        will also exclude all other words already in the sentence.\n",
        "        Args:\n",
        "            num (int): the number of sentences to generate.\n",
        "            min_len (int): minimum allowed sentence length.\n",
        "            max_len (int): maximum allowed sentence length.\n",
        "        Yields:\n",
        "            A tuple with the generated sentence and the combined probability\n",
        "            (in log-space) of all of its n-grams.\n",
        "        \"\"\"\n",
        "        for i in range(num):\n",
        "            sent, prob = [\"<s>\"] * max(1, self.n-1), 1\n",
        "            while sent[-1] != \"</s>\":\n",
        "                prev = () if self.n == 1 else tuple(sent[-(self.n-1):])\n",
        "                blacklist = sent + ([\"</s>\"] if len(sent) < min_len else [])\n",
        "                next_token, next_prob = self._best_candidate(prev, i, without=blacklist)\n",
        "                sent.append(next_token)\n",
        "                prob *= next_prob\n",
        "                \n",
        "                if len(sent) >= max_len:\n",
        "                    sent.append(\"</s>\")\n",
        "\n",
        "            yield ' '.join(sent), -1/math.log(prob)"
      ],
      "execution_count": 4,
      "outputs": []
    },
    {
      "cell_type": "code",
      "metadata": {
        "colab": {
          "base_uri": "https://localhost:8080/"
        },
        "id": "SJACxuRqc31L",
        "outputId": "206ebe3b-ad71-4ecb-bcf9-0e946dc186e0"
      },
      "source": [
        "n_gram = 3\n",
        "laplace = 0.01\n",
        "\n",
        "print(\"Loading {}-gram model...\".format(n_gram))\n",
        "lm = LanguageModel(train, n_gram, laplace=laplace)\n",
        "print(\"Vocabulary size: {}\".format(len(lm.vocab)))"
      ],
      "execution_count": 5,
      "outputs": [
        {
          "output_type": "stream",
          "name": "stdout",
          "text": [
            "Loading 3-gram model...\n",
            "Vocabulary size: 23505\n"
          ]
        }
      ]
    },
    {
      "cell_type": "code",
      "metadata": {
        "colab": {
          "base_uri": "https://localhost:8080/"
        },
        "id": "X1qfO8xAi39W",
        "outputId": "a4461215-f2ed-4810-898a-2e9659c9869b"
      },
      "source": [
        "lm.model[('all', 'star', 'usa')], lm.model[('raising', '14', 'billion')]"
      ],
      "execution_count": 6,
      "outputs": [
        {
          "output_type": "execute_result",
          "data": {
            "text/plain": [
              "(0.004260704492723054, 0.004278754501165007)"
            ]
          },
          "metadata": {},
          "execution_count": 6
        }
      ]
    },
    {
      "cell_type": "code",
      "metadata": {
        "colab": {
          "base_uri": "https://localhost:8080/"
        },
        "id": "f1_WvvA2ipvs",
        "outputId": "87d7a2d0-416a-4d9c-bf4c-b8fa7dd64232"
      },
      "source": [
        "perplexity = lm.perplexity(test)\n",
        "print(\"Model perplexity: {:.3f}\".format(perplexity))"
      ],
      "execution_count": 7,
      "outputs": [
        {
          "output_type": "stream",
          "name": "stdout",
          "text": [
            "Model perplexity: 51.555\n",
            "\n"
          ]
        }
      ]
    },
    {
      "cell_type": "code",
      "metadata": {
        "colab": {
          "base_uri": "https://localhost:8080/"
        },
        "id": "u3Dhpjql89_q",
        "outputId": "64538d95-14be-4f4f-8acb-c872ac02a5a7"
      },
      "source": [
        "n_gen_sentences = 3\n",
        "print(\"Generating sentences...\")\n",
        "for sentence, prob in lm.generate_sentences(n_gen_sentences):\n",
        "    print(\"{} ({:.5f})\".format(sentence, prob))"
      ],
      "execution_count": 10,
      "outputs": [
        {
          "output_type": "stream",
          "name": "stdout",
          "text": [
            "Generating sentences...\n",
            "<s> <s> the company said it has agreed to sell its shares in a statement </s> (0.03163)\n",
            "<s> <s> it said the company also announced an offering of up to one billion dlrs in cash and notes </s> (0.01825)\n",
            "<s> <s> shr loss one ct vs profit two cts net 119 mln dlrs </s> (0.02536)\n"
          ]
        }
      ]
    },
    {
      "cell_type": "code",
      "metadata": {
        "id": "d6oX2kcu-uy_"
      },
      "source": [
        ""
      ],
      "execution_count": null,
      "outputs": []
    }
  ]
}